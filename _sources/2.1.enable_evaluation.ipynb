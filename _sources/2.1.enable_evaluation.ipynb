{
 "cells": [
  {
   "cell_type": "markdown",
   "metadata": {},
   "source": [
    "# Enabling Evaluation\n",
    "\n",
    "```{seealso}\n",
    "https://github.com/microsoft/rag-openai/blob/main/topics/RAG_EnablingEvaluation.md\n",
    "```\n",
    "\n",
    "RAG architecture involves two main components:\n",
    "\n",
    "1. Retrieval component\n",
    "2. Generative component\n",
    "\n",
    "These components must be evaluated individually before evaluating the end-to-end solution.\n"
   ]
  },
  {
   "cell_type": "code",
   "execution_count": null,
   "metadata": {},
   "outputs": [],
   "source": [
    "## Enabling Evaluation\n"
   ]
  }
 ],
 "metadata": {
  "language_info": {
   "name": "python"
  }
 },
 "nbformat": 4,
 "nbformat_minor": 2
}
