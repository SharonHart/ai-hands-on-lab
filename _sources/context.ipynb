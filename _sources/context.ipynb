{
 "cells": [
  {
   "cell_type": "markdown",
   "metadata": {},
   "source": [
    "# Context\n"
   ]
  },
  {
   "cell_type": "markdown",
   "metadata": {},
   "source": [
    "In this workshop we aim to create a Question-Answer (QA) system using RAG architecture. We are using [Solution Ops](https://github.com/cse-labs/opsplaybook) repository as the corpus on which we would like to be able to easily retrieve answers. The repo has been added as a submodule in the current repository in [data](../data/).\n",
    "\n",
    "We have identified that most of the content in Solution Ops is present in [code-with-engineeer](https://github.com/cse-labs/opsplaybook/tree/main/docs/code-with-engineering) and [code-with-mlops](https://github.com/cse-labs/opsplaybook/tree/main/docs/code-with-mlops) sections. Therefore, we have decided to focus only on those two parts. More information on the analysis can be found [here](./5.1.generation-qa.ipynb).\n",
    "\n",
    "We will start with a [baseline RAG implementation](./2.rag-implementation.ipynb), where we will take the most obvious choices. Afterwards we will go through two experiments [Experiment 1](./3.1.experiment_embedding.ipynb) and [Experiment 2](./3.2.experiment_chunking.ipynb) where we will focus on different aspects of a RAG solution, such as: embedding and chunking. Afterwards, we will build a new RAG solution, using the best choices, as resulted in the two experiments.\n",
    "\n",
    "Finally, we will evaluate the system's performance end to end.\n",
    "\n",
    "After looking at different aspects of a RAG solution, experimenting and evaluating, we will look into A/B testing and post-production related topics.\n",
    "\n"
   ]
  }
 ],
 "metadata": {
  "kernelspec": {
   "display_name": ".venv",
   "language": "python",
   "name": "python3"
  },
  "language_info": {
   "name": "python",
   "version": "3.11.4"
  }
 },
 "nbformat": 4,
 "nbformat_minor": 2
}
