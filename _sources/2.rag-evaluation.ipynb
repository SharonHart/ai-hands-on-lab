{
 "cells": [
  {
   "cell_type": "markdown",
   "metadata": {},
   "source": [
    "### Create relevance metric (same for aml)\n"
   ]
  },
  {
   "cell_type": "code",
   "execution_count": null,
   "metadata": {},
   "outputs": [
    {
     "name": "stdout",
     "output_type": "stream",
     "text": [
      "Requirement already satisfied: mlflow==2.10.1 in c:\\projects\\workshop2024\\.venv\\lib\\site-packages (2.10.1)\n",
      "Requirement already satisfied: click<9,>=7.0 in c:\\projects\\workshop2024\\.venv\\lib\\site-packages (from mlflow==2.10.1) (8.1.7)\n",
      "Requirement already satisfied: cloudpickle<4 in c:\\projects\\workshop2024\\.venv\\lib\\site-packages (from mlflow==2.10.1) (2.2.1)\n",
      "Requirement already satisfied: databricks-cli<1,>=0.8.7 in c:\\projects\\workshop2024\\.venv\\lib\\site-packages (from mlflow==2.10.1) (0.18.0)\n",
      "Requirement already satisfied: entrypoints<1 in c:\\projects\\workshop2024\\.venv\\lib\\site-packages (from mlflow==2.10.1) (0.4)\n",
      "Requirement already satisfied: gitpython<4,>=2.1.0 in c:\\projects\\workshop2024\\.venv\\lib\\site-packages (from mlflow==2.10.1) (3.1.41)\n",
      "Requirement already satisfied: pyyaml<7,>=5.1 in c:\\projects\\workshop2024\\.venv\\lib\\site-packages (from mlflow==2.10.1) (6.0.1)\n",
      "Requirement already satisfied: protobuf<5,>=3.12.0 in c:\\projects\\workshop2024\\.venv\\lib\\site-packages (from mlflow==2.10.1) (4.25.2)\n",
      "Requirement already satisfied: pytz<2024 in c:\\projects\\workshop2024\\.venv\\lib\\site-packages (from mlflow==2.10.1) (2023.4)\n",
      "Requirement already satisfied: requests<3,>=2.17.3 in c:\\projects\\workshop2024\\.venv\\lib\\site-packages (from mlflow==2.10.1) (2.31.0)\n",
      "Requirement already satisfied: packaging<24 in c:\\projects\\workshop2024\\.venv\\lib\\site-packages (from mlflow==2.10.1) (23.2)\n",
      "Requirement already satisfied: importlib-metadata!=4.7.0,<8,>=3.7.0 in c:\\projects\\workshop2024\\.venv\\lib\\site-packages (from mlflow==2.10.1) (7.0.1)\n",
      "Requirement already satisfied: sqlparse<1,>=0.4.0 in c:\\projects\\workshop2024\\.venv\\lib\\site-packages (from mlflow==2.10.1) (0.4.4)\n",
      "Requirement already satisfied: alembic!=1.10.0,<2 in c:\\projects\\workshop2024\\.venv\\lib\\site-packages (from mlflow==2.10.1) (1.13.1)\n",
      "Requirement already satisfied: docker<8,>=4.0.0 in c:\\projects\\workshop2024\\.venv\\lib\\site-packages (from mlflow==2.10.1) (6.1.3)\n",
      "Requirement already satisfied: Flask<4 in c:\\projects\\workshop2024\\.venv\\lib\\site-packages (from mlflow==2.10.1) (3.0.2)\n",
      "Requirement already satisfied: numpy<2 in c:\\projects\\workshop2024\\.venv\\lib\\site-packages (from mlflow==2.10.1) (1.26.3)\n",
      "Requirement already satisfied: scipy<2 in c:\\projects\\workshop2024\\.venv\\lib\\site-packages (from mlflow==2.10.1) (1.12.0)\n",
      "Requirement already satisfied: pandas<3 in c:\\projects\\workshop2024\\.venv\\lib\\site-packages (from mlflow==2.10.1) (2.2.0)\n",
      "Requirement already satisfied: querystring-parser<2 in c:\\projects\\workshop2024\\.venv\\lib\\site-packages (from mlflow==2.10.1) (1.2.4)\n",
      "Requirement already satisfied: sqlalchemy<3,>=1.4.0 in c:\\projects\\workshop2024\\.venv\\lib\\site-packages (from mlflow==2.10.1) (2.0.25)\n",
      "Requirement already satisfied: scikit-learn<2 in c:\\projects\\workshop2024\\.venv\\lib\\site-packages (from mlflow==2.10.1) (1.4.0)\n",
      "Requirement already satisfied: pyarrow<16,>=4.0.0 in c:\\projects\\workshop2024\\.venv\\lib\\site-packages (from mlflow==2.10.1) (15.0.0)\n",
      "Requirement already satisfied: markdown<4,>=3.3 in c:\\projects\\workshop2024\\.venv\\lib\\site-packages (from mlflow==2.10.1) (3.5.2)\n",
      "Requirement already satisfied: matplotlib<4 in c:\\projects\\workshop2024\\.venv\\lib\\site-packages (from mlflow==2.10.1) (3.8.2)\n",
      "Requirement already satisfied: waitress<3 in c:\\projects\\workshop2024\\.venv\\lib\\site-packages (from mlflow==2.10.1) (2.1.2)\n",
      "Requirement already satisfied: Jinja2<4,>=3.0 in c:\\projects\\workshop2024\\.venv\\lib\\site-packages (from mlflow==2.10.1) (3.1.3)\n",
      "Requirement already satisfied: Mako in c:\\projects\\workshop2024\\.venv\\lib\\site-packages (from alembic!=1.10.0,<2->mlflow==2.10.1) (1.3.2)\n",
      "Requirement already satisfied: typing-extensions>=4 in c:\\projects\\workshop2024\\.venv\\lib\\site-packages (from alembic!=1.10.0,<2->mlflow==2.10.1) (4.9.0)\n",
      "Requirement already satisfied: colorama in c:\\projects\\workshop2024\\.venv\\lib\\site-packages (from click<9,>=7.0->mlflow==2.10.1) (0.4.6)\n",
      "Requirement already satisfied: pyjwt>=1.7.0 in c:\\projects\\workshop2024\\.venv\\lib\\site-packages (from databricks-cli<1,>=0.8.7->mlflow==2.10.1) (2.8.0)\n",
      "Requirement already satisfied: oauthlib>=3.1.0 in c:\\projects\\workshop2024\\.venv\\lib\\site-packages (from databricks-cli<1,>=0.8.7->mlflow==2.10.1) (3.2.2)\n",
      "Requirement already satisfied: tabulate>=0.7.7 in c:\\projects\\workshop2024\\.venv\\lib\\site-packages (from databricks-cli<1,>=0.8.7->mlflow==2.10.1) (0.9.0)\n",
      "Requirement already satisfied: six>=1.10.0 in c:\\projects\\workshop2024\\.venv\\lib\\site-packages (from databricks-cli<1,>=0.8.7->mlflow==2.10.1) (1.16.0)\n",
      "Requirement already satisfied: urllib3<3,>=1.26.7 in c:\\projects\\workshop2024\\.venv\\lib\\site-packages (from databricks-cli<1,>=0.8.7->mlflow==2.10.1) (2.1.0)\n",
      "Requirement already satisfied: websocket-client>=0.32.0 in c:\\projects\\workshop2024\\.venv\\lib\\site-packages (from docker<8,>=4.0.0->mlflow==2.10.1) (1.7.0)\n",
      "Requirement already satisfied: pywin32>=304 in c:\\projects\\workshop2024\\.venv\\lib\\site-packages (from docker<8,>=4.0.0->mlflow==2.10.1) (306)\n",
      "Requirement already satisfied: Werkzeug>=3.0.0 in c:\\projects\\workshop2024\\.venv\\lib\\site-packages (from Flask<4->mlflow==2.10.1) (3.0.1)\n",
      "Requirement already satisfied: itsdangerous>=2.1.2 in c:\\projects\\workshop2024\\.venv\\lib\\site-packages (from Flask<4->mlflow==2.10.1) (2.1.2)\n",
      "Requirement already satisfied: blinker>=1.6.2 in c:\\projects\\workshop2024\\.venv\\lib\\site-packages (from Flask<4->mlflow==2.10.1) (1.7.0)\n",
      "Requirement already satisfied: gitdb<5,>=4.0.1 in c:\\projects\\workshop2024\\.venv\\lib\\site-packages (from gitpython<4,>=2.1.0->mlflow==2.10.1) (4.0.11)\n",
      "Requirement already satisfied: zipp>=0.5 in c:\\projects\\workshop2024\\.venv\\lib\\site-packages (from importlib-metadata!=4.7.0,<8,>=3.7.0->mlflow==2.10.1) (3.17.0)\n",
      "Requirement already satisfied: MarkupSafe>=2.0 in c:\\projects\\workshop2024\\.venv\\lib\\site-packages (from Jinja2<4,>=3.0->mlflow==2.10.1) (2.1.4)\n",
      "Requirement already satisfied: contourpy>=1.0.1 in c:\\projects\\workshop2024\\.venv\\lib\\site-packages (from matplotlib<4->mlflow==2.10.1) (1.2.0)\n",
      "Requirement already satisfied: cycler>=0.10 in c:\\projects\\workshop2024\\.venv\\lib\\site-packages (from matplotlib<4->mlflow==2.10.1) (0.12.1)\n",
      "Requirement already satisfied: fonttools>=4.22.0 in c:\\projects\\workshop2024\\.venv\\lib\\site-packages (from matplotlib<4->mlflow==2.10.1) (4.47.2)\n",
      "Requirement already satisfied: kiwisolver>=1.3.1 in c:\\projects\\workshop2024\\.venv\\lib\\site-packages (from matplotlib<4->mlflow==2.10.1) (1.4.5)\n",
      "Requirement already satisfied: pillow>=8 in c:\\projects\\workshop2024\\.venv\\lib\\site-packages (from matplotlib<4->mlflow==2.10.1) (10.2.0)\n",
      "Requirement already satisfied: pyparsing>=2.3.1 in c:\\projects\\workshop2024\\.venv\\lib\\site-packages (from matplotlib<4->mlflow==2.10.1) (3.1.1)\n",
      "Requirement already satisfied: python-dateutil>=2.7 in c:\\projects\\workshop2024\\.venv\\lib\\site-packages (from matplotlib<4->mlflow==2.10.1) (2.8.2)\n",
      "Requirement already satisfied: tzdata>=2022.7 in c:\\projects\\workshop2024\\.venv\\lib\\site-packages (from pandas<3->mlflow==2.10.1) (2023.4)\n",
      "Requirement already satisfied: charset-normalizer<4,>=2 in c:\\projects\\workshop2024\\.venv\\lib\\site-packages (from requests<3,>=2.17.3->mlflow==2.10.1) (3.3.2)\n",
      "Requirement already satisfied: idna<4,>=2.5 in c:\\projects\\workshop2024\\.venv\\lib\\site-packages (from requests<3,>=2.17.3->mlflow==2.10.1) (3.6)\n",
      "Requirement already satisfied: certifi>=2017.4.17 in c:\\projects\\workshop2024\\.venv\\lib\\site-packages (from requests<3,>=2.17.3->mlflow==2.10.1) (2023.11.17)\n",
      "Requirement already satisfied: joblib>=1.2.0 in c:\\projects\\workshop2024\\.venv\\lib\\site-packages (from scikit-learn<2->mlflow==2.10.1) (1.3.2)\n",
      "Requirement already satisfied: threadpoolctl>=2.0.0 in c:\\projects\\workshop2024\\.venv\\lib\\site-packages (from scikit-learn<2->mlflow==2.10.1) (3.2.0)\n",
      "Requirement already satisfied: greenlet!=0.4.17 in c:\\projects\\workshop2024\\.venv\\lib\\site-packages (from sqlalchemy<3,>=1.4.0->mlflow==2.10.1) (3.0.3)\n",
      "Requirement already satisfied: smmap<6,>=3.0.1 in c:\\projects\\workshop2024\\.venv\\lib\\site-packages (from gitdb<5,>=4.0.1->gitpython<4,>=2.1.0->mlflow==2.10.1) (5.0.1)\n",
      "Note: you may need to restart the kernel to use updated packages.\n"
     ]
    },
    {
     "name": "stderr",
     "output_type": "stream",
     "text": [
      "\n",
      "[notice] A new release of pip is available: 23.3.2 -> 24.0\n",
      "[notice] To update, run: python.exe -m pip install --upgrade pip\n"
     ]
    },
    {
     "name": "stdout",
     "output_type": "stream",
     "text": [
      "Collecting azureml-mlflow==1.55.0\n",
      "  Downloading azureml_mlflow-1.55.0-py3-none-any.whl.metadata (2.6 kB)\n",
      "Requirement already satisfied: jsonpickle in c:\\projects\\workshop2024\\.venv\\lib\\site-packages (from azureml-mlflow==1.55.0) (3.0.2)\n",
      "Collecting mlflow-skinny (from azureml-mlflow==1.55.0)\n",
      "  Downloading mlflow_skinny-2.10.2-py3-none-any.whl.metadata (14 kB)\n",
      "Requirement already satisfied: azure-identity in c:\\projects\\workshop2024\\.venv\\lib\\site-packages (from azureml-mlflow==1.55.0) (1.15.0)\n",
      "Requirement already satisfied: msrest>=0.6.18 in c:\\projects\\workshop2024\\.venv\\lib\\site-packages (from azureml-mlflow==1.55.0) (0.7.1)\n",
      "Requirement already satisfied: azure-core!=1.22.0,<2.0.0,>=1.8.0 in c:\\projects\\workshop2024\\.venv\\lib\\site-packages (from azureml-mlflow==1.55.0) (1.29.7)\n",
      "Requirement already satisfied: azure-mgmt-core<2.0.0,>=1.2.0 in c:\\projects\\workshop2024\\.venv\\lib\\site-packages (from azureml-mlflow==1.55.0) (1.4.0)\n",
      "Requirement already satisfied: azure-storage-blob<=12.19.0,>=12.5.0 in c:\\projects\\workshop2024\\.venv\\lib\\site-packages (from azureml-mlflow==1.55.0) (12.19.0)\n",
      "Requirement already satisfied: azure-common<2.0.0,>=1.1 in c:\\projects\\workshop2024\\.venv\\lib\\site-packages (from azureml-mlflow==1.55.0) (1.1.28)\n",
      "Requirement already satisfied: cryptography in c:\\projects\\workshop2024\\.venv\\lib\\site-packages (from azureml-mlflow==1.55.0) (41.0.7)\n",
      "Requirement already satisfied: python-dateutil<3.0.0,>=2.7.3 in c:\\projects\\workshop2024\\.venv\\lib\\site-packages (from azureml-mlflow==1.55.0) (2.8.2)\n",
      "Requirement already satisfied: requests>=2.21.0 in c:\\projects\\workshop2024\\.venv\\lib\\site-packages (from azure-core!=1.22.0,<2.0.0,>=1.8.0->azureml-mlflow==1.55.0) (2.31.0)\n",
      "Requirement already satisfied: six>=1.11.0 in c:\\projects\\workshop2024\\.venv\\lib\\site-packages (from azure-core!=1.22.0,<2.0.0,>=1.8.0->azureml-mlflow==1.55.0) (1.16.0)\n",
      "Requirement already satisfied: typing-extensions>=4.6.0 in c:\\projects\\workshop2024\\.venv\\lib\\site-packages (from azure-core!=1.22.0,<2.0.0,>=1.8.0->azureml-mlflow==1.55.0) (4.9.0)\n",
      "Requirement already satisfied: isodate>=0.6.1 in c:\\projects\\workshop2024\\.venv\\lib\\site-packages (from azure-storage-blob<=12.19.0,>=12.5.0->azureml-mlflow==1.55.0) (0.6.1)\n",
      "Requirement already satisfied: cffi>=1.12 in c:\\projects\\workshop2024\\.venv\\lib\\site-packages (from cryptography->azureml-mlflow==1.55.0) (1.16.0)\n",
      "Requirement already satisfied: certifi>=2017.4.17 in c:\\projects\\workshop2024\\.venv\\lib\\site-packages (from msrest>=0.6.18->azureml-mlflow==1.55.0) (2023.11.17)\n",
      "Requirement already satisfied: requests-oauthlib>=0.5.0 in c:\\projects\\workshop2024\\.venv\\lib\\site-packages (from msrest>=0.6.18->azureml-mlflow==1.55.0) (1.3.1)\n",
      "Requirement already satisfied: msal<2.0.0,>=1.24.0 in c:\\projects\\workshop2024\\.venv\\lib\\site-packages (from azure-identity->azureml-mlflow==1.55.0) (1.26.0)\n",
      "Requirement already satisfied: msal-extensions<2.0.0,>=0.3.0 in c:\\projects\\workshop2024\\.venv\\lib\\site-packages (from azure-identity->azureml-mlflow==1.55.0) (1.0.0)\n",
      "Requirement already satisfied: click<9,>=7.0 in c:\\projects\\workshop2024\\.venv\\lib\\site-packages (from mlflow-skinny->azureml-mlflow==1.55.0) (8.1.7)\n",
      "Requirement already satisfied: cloudpickle<4 in c:\\projects\\workshop2024\\.venv\\lib\\site-packages (from mlflow-skinny->azureml-mlflow==1.55.0) (2.2.1)\n",
      "Requirement already satisfied: entrypoints<1 in c:\\projects\\workshop2024\\.venv\\lib\\site-packages (from mlflow-skinny->azureml-mlflow==1.55.0) (0.4)\n",
      "Requirement already satisfied: gitpython<4,>=2.1.0 in c:\\projects\\workshop2024\\.venv\\lib\\site-packages (from mlflow-skinny->azureml-mlflow==1.55.0) (3.1.41)\n",
      "Requirement already satisfied: pyyaml<7,>=5.1 in c:\\projects\\workshop2024\\.venv\\lib\\site-packages (from mlflow-skinny->azureml-mlflow==1.55.0) (6.0.1)\n",
      "Requirement already satisfied: protobuf<5,>=3.12.0 in c:\\projects\\workshop2024\\.venv\\lib\\site-packages (from mlflow-skinny->azureml-mlflow==1.55.0) (4.25.2)\n",
      "Requirement already satisfied: pytz<2024 in c:\\projects\\workshop2024\\.venv\\lib\\site-packages (from mlflow-skinny->azureml-mlflow==1.55.0) (2023.4)\n",
      "Requirement already satisfied: packaging<24 in c:\\projects\\workshop2024\\.venv\\lib\\site-packages (from mlflow-skinny->azureml-mlflow==1.55.0) (23.2)\n",
      "Requirement already satisfied: importlib-metadata!=4.7.0,<8,>=3.7.0 in c:\\projects\\workshop2024\\.venv\\lib\\site-packages (from mlflow-skinny->azureml-mlflow==1.55.0) (7.0.1)\n",
      "Requirement already satisfied: sqlparse<1,>=0.4.0 in c:\\projects\\workshop2024\\.venv\\lib\\site-packages (from mlflow-skinny->azureml-mlflow==1.55.0) (0.4.4)\n",
      "Requirement already satisfied: pycparser in c:\\projects\\workshop2024\\.venv\\lib\\site-packages (from cffi>=1.12->cryptography->azureml-mlflow==1.55.0) (2.21)\n",
      "Requirement already satisfied: colorama in c:\\projects\\workshop2024\\.venv\\lib\\site-packages (from click<9,>=7.0->mlflow-skinny->azureml-mlflow==1.55.0) (0.4.6)\n",
      "Requirement already satisfied: gitdb<5,>=4.0.1 in c:\\projects\\workshop2024\\.venv\\lib\\site-packages (from gitpython<4,>=2.1.0->mlflow-skinny->azureml-mlflow==1.55.0) (4.0.11)\n",
      "Requirement already satisfied: zipp>=0.5 in c:\\projects\\workshop2024\\.venv\\lib\\site-packages (from importlib-metadata!=4.7.0,<8,>=3.7.0->mlflow-skinny->azureml-mlflow==1.55.0) (3.17.0)\n",
      "Requirement already satisfied: PyJWT<3,>=1.0.0 in c:\\projects\\workshop2024\\.venv\\lib\\site-packages (from PyJWT[crypto]<3,>=1.0.0->msal<2.0.0,>=1.24.0->azure-identity->azureml-mlflow==1.55.0) (2.8.0)\n",
      "Requirement already satisfied: portalocker<3,>=1.6 in c:\\projects\\workshop2024\\.venv\\lib\\site-packages (from msal-extensions<2.0.0,>=0.3.0->azure-identity->azureml-mlflow==1.55.0) (2.8.2)\n",
      "Requirement already satisfied: charset-normalizer<4,>=2 in c:\\projects\\workshop2024\\.venv\\lib\\site-packages (from requests>=2.21.0->azure-core!=1.22.0,<2.0.0,>=1.8.0->azureml-mlflow==1.55.0) (3.3.2)\n",
      "Requirement already satisfied: idna<4,>=2.5 in c:\\projects\\workshop2024\\.venv\\lib\\site-packages (from requests>=2.21.0->azure-core!=1.22.0,<2.0.0,>=1.8.0->azureml-mlflow==1.55.0) (3.6)\n",
      "Requirement already satisfied: urllib3<3,>=1.21.1 in c:\\projects\\workshop2024\\.venv\\lib\\site-packages (from requests>=2.21.0->azure-core!=1.22.0,<2.0.0,>=1.8.0->azureml-mlflow==1.55.0) (2.1.0)\n",
      "Requirement already satisfied: oauthlib>=3.0.0 in c:\\projects\\workshop2024\\.venv\\lib\\site-packages (from requests-oauthlib>=0.5.0->msrest>=0.6.18->azureml-mlflow==1.55.0) (3.2.2)\n",
      "Requirement already satisfied: smmap<6,>=3.0.1 in c:\\projects\\workshop2024\\.venv\\lib\\site-packages (from gitdb<5,>=4.0.1->gitpython<4,>=2.1.0->mlflow-skinny->azureml-mlflow==1.55.0) (5.0.1)\n",
      "Requirement already satisfied: pywin32>=226 in c:\\projects\\workshop2024\\.venv\\lib\\site-packages (from portalocker<3,>=1.6->msal-extensions<2.0.0,>=0.3.0->azure-identity->azureml-mlflow==1.55.0) (306)\n",
      "Downloading azureml_mlflow-1.55.0-py3-none-any.whl (1.0 MB)\n",
      "   ---------------------------------------- 0.0/1.0 MB ? eta -:--:--\n",
      "   ------------------------- -------------- 0.7/1.0 MB 13.7 MB/s eta 0:00:01\n",
      "   ---------------------------------------- 1.0/1.0 MB 16.3 MB/s eta 0:00:00\n",
      "Downloading mlflow_skinny-2.10.2-py3-none-any.whl (4.8 MB)\n",
      "   ---------------------------------------- 0.0/4.8 MB ? eta -:--:--\n",
      "   ---- ----------------------------------- 0.6/4.8 MB 35.2 MB/s eta 0:00:01\n",
      "   ------------- -------------------------- 1.7/4.8 MB 21.1 MB/s eta 0:00:01\n",
      "   -------------------------- ------------- 3.2/4.8 MB 25.3 MB/s eta 0:00:01\n",
      "   ---------------------------------------  4.8/4.8 MB 28.1 MB/s eta 0:00:01\n",
      "   ---------------------------------------- 4.8/4.8 MB 25.7 MB/s eta 0:00:00\n",
      "Installing collected packages: mlflow-skinny, azureml-mlflow\n",
      "Successfully installed azureml-mlflow-1.55.0 mlflow-skinny-2.10.2\n",
      "Note: you may need to restart the kernel to use updated packages.\n"
     ]
    },
    {
     "name": "stderr",
     "output_type": "stream",
     "text": [
      "\n",
      "[notice] A new release of pip is available: 23.3.2 -> 24.0\n",
      "[notice] To update, run: python.exe -m pip install --upgrade pip\n"
     ]
    }
   ],
   "source": [
    "%pip install mlflow==2.10.1\n",
    "%pip install azureml-mlflow==1.55.0"
   ]
  },
  {
   "cell_type": "code",
   "execution_count": 16,
   "metadata": {},
   "outputs": [
    {
     "data": {
      "text/plain": [
       "'chat'"
      ]
     },
     "execution_count": 16,
     "metadata": {},
     "output_type": "execute_result"
    }
   ],
   "source": [
    "import mlflow\n",
    "import openai\n",
    "import os\n",
    "import pandas as pd\n",
    "from getpass import getpass\n",
    "from azureml.core import Workspace\n",
    "\n",
    "%reload_ext dotenv\n",
    "%dotenv\n",
    "\n",
    "subscription_id = os.environ[\"subscription_id\"]\n",
    "resource_group_name = os.environ[\"resource_group_name\"]\n",
    "workspace_name = os.environ[\"workspace_name\"]\n",
    "\n",
    "aoi_deployment_name = os.environ[\"AZURE_OPENAI_DEPLOYMENT_NAME\"]\n",
    "azure_openai_key = os.environ[\"azure_openai_key\"]\n",
    "azure_aoai_endpoint = os.environ[\"azure_aoai_endpoint\"]\n",
    "\n",
    "os.environ.setdefault(\"OPENAI_API_KEY\", azure_openai_key)\n",
    "os.environ.setdefault(\"OPENAI_API_BASE\", azure_aoai_endpoint)\n",
    "os.environ.setdefault(\"OPENAI_API_VERSION\", \"2023-05-15\")\n",
    "os.environ.setdefault(\"OPENAI_API_TYPE\", \"azure\")\n",
    "os.environ.setdefault(\"OPENAI_DEPLOYMENT_NAME\",aoi_deployment_name)"
   ]
  },
  {
   "cell_type": "markdown",
   "metadata": {},
   "source": [
    "### Create faithfulness metric (=aka groundedness for AML)\n"
   ]
  },
  {
   "cell_type": "code",
   "execution_count": 9,
   "metadata": {},
   "outputs": [],
   "source": [
    "from mlflow.metrics.genai import faithfulness, EvaluationExample\n",
    "\n",
    "# Create a good and bad example for faithfulness in the context of this problem\n",
    "faithfulness_examples = [\n",
    "    EvaluationExample(\n",
    "        input=\"How do I disable MLflow autologging?\",\n",
    "        output=\"mlflow.autolog(disable=True) will disable autologging for all functions. In Databricks, autologging is enabled by default. \",\n",
    "        score=2,\n",
    "        justification=\"The output provides a working solution, using the mlflow.autolog() function that is provided in the context.\",\n",
    "        grading_context={\n",
    "            \"context\": \"mlflow.autolog(log_input_examples: bool = False, log_model_signatures: bool = True, log_models: bool = True, log_datasets: bool = True, disable: bool = False, exclusive: bool = False, disable_for_unsupported_versions: bool = False, silent: bool = False, extra_tags: Optional[Dict[str, str]] = None) → None[source] Enables (or disables) and configures autologging for all supported integrations. The parameters are passed to any autologging integrations that support them. See the tracking docs for a list of supported autologging integrations. Note that framework-specific configurations set at any point will take precedence over any configurations set by this function.\"\n",
    "        },\n",
    "    ),\n",
    "    EvaluationExample(\n",
    "        input=\"How do I disable MLflow autologging?\",\n",
    "        output=\"mlflow.autolog(disable=True) will disable autologging for all functions.\",\n",
    "        score=5,\n",
    "        justification=\"The output provides a solution that is using the mlflow.autolog() function that is provided in the context.\",\n",
    "        grading_context={\n",
    "            \"context\": \"mlflow.autolog(log_input_examples: bool = False, log_model_signatures: bool = True, log_models: bool = True, log_datasets: bool = True, disable: bool = False, exclusive: bool = False, disable_for_unsupported_versions: bool = False, silent: bool = False, extra_tags: Optional[Dict[str, str]] = None) → None[source] Enables (or disables) and configures autologging for all supported integrations. The parameters are passed to any autologging integrations that support them. See the tracking docs for a list of supported autologging integrations. Note that framework-specific configurations set at any point will take precedence over any configurations set by this function.\"\n",
    "        },\n",
    "    ),\n",
    "]\n",
    "\n",
    "faithfulness_metric = faithfulness(model=\"openai:/gpt-4\", examples=faithfulness_examples)"
   ]
  },
  {
   "cell_type": "markdown",
   "metadata": {},
   "source": [
    "### Create relevance metric (same for aml)\n"
   ]
  },
  {
   "cell_type": "code",
   "execution_count": 10,
   "metadata": {},
   "outputs": [
    {
     "name": "stdout",
     "output_type": "stream",
     "text": [
      "EvaluationMetric(name=relevance, greater_is_better=True, long_name=relevance, version=v1, metric_details=\n",
      "Task:\n",
      "You must return the following fields in your response in two lines, one below the other:\n",
      "score: Your numerical score for the model's relevance based on the rubric\n",
      "justification: Your reasoning about the model's relevance score\n",
      "\n",
      "You are an impartial judge. You will be given an input that was sent to a machine\n",
      "learning model, and you will be given an output that the model produced. You\n",
      "may also be given additional information that was used by the model to generate the output.\n",
      "\n",
      "Your task is to determine a numerical score called relevance based on the input and output.\n",
      "A definition of relevance and a grading rubric are provided below.\n",
      "You must use the grading rubric to determine your score. You must also justify your score.\n",
      "\n",
      "Examples could be included below for reference. Make sure to use them as references and to\n",
      "understand them before completing the task.\n",
      "\n",
      "Input:\n",
      "{input}\n",
      "\n",
      "Output:\n",
      "{output}\n",
      "\n",
      "{grading_context_columns}\n",
      "\n",
      "Metric definition:\n",
      "Relevance encompasses the appropriateness, significance, and applicability of the output with respect to both the input and context. Scores should reflect the extent to which the output directly addresses the question provided in the input, given the provided context.\n",
      "\n",
      "Grading rubric:\n",
      "Relevance: Below are the details for different scores:- Score 1: The output doesn't mention anything about the question or is completely irrelevant to the provided context.\n",
      "- Score 2: The output provides some relevance to the question and is somehow related to the provided context.\n",
      "- Score 3: The output mostly answers the question and is largely consistent with the provided context.\n",
      "- Score 4: The output answers the question and is consistent with the provided context.\n",
      "- Score 5: The output answers the question comprehensively using the provided context.\n",
      "\n",
      "Examples:\n",
      "\n",
      "Example Input:\n",
      "How is MLflow related to Databricks?\n",
      "\n",
      "Example Output:\n",
      "Databricks is a data engineering and analytics platform designed to help organizations process and analyze large amounts of data. Databricks is a company specializing in big data and machine learning solutions.\n",
      "\n",
      "Additional information used by the model:\n",
      "key: context\n",
      "value:\n",
      "MLflow is an open-source platform for managing the end-to-end machine learning (ML) lifecycle. It was developed by Databricks, a company that specializes in big data and machine learning solutions. MLflow is designed to address the challenges that data scientists and machine learning engineers face when developing, training, and deploying machine learning models.\n",
      "\n",
      "Example score: 2\n",
      "Example justification: The output provides relevant information about Databricks, mentioning it as a company specializing in big data and machine learning solutions. However, it doesn't directly address how MLflow is related to Databricks, which is the specific question asked in the input. Therefore, the output is only somewhat related to the provided context.\n",
      "        \n",
      "\n",
      "Example Input:\n",
      "How is MLflow related to Databricks?\n",
      "\n",
      "Example Output:\n",
      "MLflow is a product created by Databricks to enhance the efficiency of machine learning processes.\n",
      "\n",
      "Additional information used by the model:\n",
      "key: context\n",
      "value:\n",
      "MLflow is an open-source platform for managing the end-to-end machine learning (ML) lifecycle. It was developed by Databricks, a company that specializes in big data and machine learning solutions. MLflow is designed to address the challenges that data scientists and machine learning engineers face when developing, training, and deploying machine learning models.\n",
      "\n",
      "Example score: 4\n",
      "Example justification: The output provides a relevant and accurate statement about the relationship between MLflow and Databricks. While it doesn't provide extensive detail, it still offers a substantial and meaningful response. To achieve a score of 5, the response could be further improved by providing additional context or details about how MLflow specifically functions within the Databricks ecosystem.\n",
      "        \n",
      "\n",
      "You must return the following fields in your response in two lines, one below the other:\n",
      "score: Your numerical score for the model's relevance based on the rubric\n",
      "justification: Your reasoning about the model's relevance score\n",
      "\n",
      "Do not add additional new lines. Do not add any other fields.\n",
      "    )\n"
     ]
    }
   ],
   "source": [
    "from mlflow.metrics.genai import relevance, EvaluationExample\n",
    "\n",
    "relevance_metric = relevance(model=\"openai:/gpt-4\")\n",
    "print(relevance_metric)"
   ]
  },
  {
   "cell_type": "code",
   "execution_count": null,
   "metadata": {},
   "outputs": [],
   "source": [
    "# !az login --tenant fdpo.onmicrosoft.com\n",
    "from azure.ai.ml import MLClient\n",
    "from azure.identity import DefaultAzureCredential\n",
    "\n",
    "ml_client = MLClient(credential=DefaultAzureCredential(),\n",
    "                        subscription_id=subscription_id, \n",
    "                        resource_group_name=resource_group_name,\n",
    "                        workspace_name=workspace_name)\n"
   ]
  },
  {
   "cell_type": "code",
   "execution_count": null,
   "metadata": {},
   "outputs": [
    {
     "name": "stdout",
     "output_type": "stream",
     "text": [
      "azureml://swedencentral.api.azureml.ms/mlflow/v1.0/subscriptions/77e0e886-66a0-48ff-be94-66a9737fac63/resourceGroups/adnegrau-openai/providers/Microsoft.MachineLearningServices/workspaces/workshop-workspace-adina\n"
     ]
    }
   ],
   "source": [
    "mlflow_tracking_uri = ml_client.workspaces.get(ml_client.workspace_name).mlflow_tracking_uri\n",
    "print(mlflow_tracking_uri)"
   ]
  },
  {
   "cell_type": "code",
   "execution_count": 6,
   "metadata": {},
   "outputs": [
    {
     "name": "stderr",
     "output_type": "stream",
     "text": [
      "Warning: Falling back to use azure cli login credentials.\n",
      "If you run your code in unattended mode, i.e., where you can't give a user input, then we recommend to use ServicePrincipalAuthentication or MsiAuthentication.\n",
      "Please refer to aka.ms/aml-notebook-auth for different authentication mechanisms in azureml-sdk.\n"
     ]
    }
   ],
   "source": [
    "ws = Workspace.get(name=workspace_name,\n",
    "                   subscription_id=subscription_id,\n",
    "                   resource_group=resource_group_name)\n",
    "\n",
    "mlflow.set_tracking_uri(ws.get_mlflow_tracking_uri())"
   ]
  },
  {
   "cell_type": "code",
   "execution_count": 20,
   "metadata": {},
   "outputs": [
    {
     "name": "stdout",
     "output_type": "stream",
     "text": [
      "azureml://swedencentral.api.azureml.ms/mlflow/v2.0/subscriptions/77e0e886-66a0-48ff-be94-66a9737fac63/resourceGroups/adnegrau-openai/providers/Microsoft.MachineLearningServices/workspaces/workshop-workspace-adina?\n"
     ]
    }
   ],
   "source": [
    "print(ws.get_mlflow_tracking_uri())"
   ]
  },
  {
   "cell_type": "markdown",
   "metadata": {},
   "source": [
    "Generate answers\n"
   ]
  },
  {
   "cell_type": "code",
   "execution_count": 36,
   "metadata": {},
   "outputs": [
    {
     "name": "stdout",
     "output_type": "stream",
     "text": [
      " Model registry functionality is unavailable; got unsupported URI 'azureml://swedencentral.api.azureml.ms/mlflow/v1.0/subscriptions/77e0e886-66a0-48ff-be94-66a9737fac63/resourceGroups/adnegrau-openai/providers/Microsoft.MachineLearningServices/workspaces/workshop-workspace-adina' for model registry data storage. Supported URI schemes are: ['', 'file', 'databricks', 'databricks-uc', 'http', 'https', 'postgresql', 'mysql', 'sqlite', 'mssql']. See https://www.mlflow.org/docs/latest/tracking.html#storage for how to run an MLflow server against one of the supported backend storage locations.\n"
     ]
    },
    {
     "ename": "KeyboardInterrupt",
     "evalue": "",
     "output_type": "error",
     "traceback": [
      "\u001b[1;31m---------------------------------------------------------------------------\u001b[0m",
      "\u001b[1;31mKeyboardInterrupt\u001b[0m                         Traceback (most recent call last)",
      "Cell \u001b[1;32mIn[36], line 2\u001b[0m\n\u001b[1;32m----> 2\u001b[0m \u001b[38;5;28;43;01mwith\u001b[39;49;00m\u001b[43m \u001b[49m\u001b[38;5;28;43mopen\u001b[39;49m\u001b[43m(\u001b[49m\u001b[38;5;124;43m\"\u001b[39;49m\u001b[38;5;124;43m./output/qa/evaluation/solution-ops-200-qa-generated-answer\u001b[39;49m\u001b[38;5;124;43m\"\u001b[39;49m\u001b[43m,\u001b[49m\u001b[43m \u001b[49m\u001b[38;5;124;43m\"\u001b[39;49m\u001b[38;5;124;43mr\u001b[39;49m\u001b[38;5;124;43m\"\u001b[39;49m\u001b[43m,\u001b[49m\u001b[43m \u001b[49m\u001b[43mencoding\u001b[49m\u001b[38;5;241;43m=\u001b[39;49m\u001b[38;5;124;43m\"\u001b[39;49m\u001b[38;5;124;43mutf-8\u001b[39;49m\u001b[38;5;124;43m\"\u001b[39;49m\u001b[43m)\u001b[49m\u001b[43m \u001b[49m\u001b[38;5;28;43;01mas\u001b[39;49;00m\u001b[43m \u001b[49m\u001b[43mfile\u001b[49m\u001b[43m:\u001b[49m\n\u001b[0;32m      3\u001b[0m \u001b[43m    \u001b[49m\u001b[43mqa_evluation_data\u001b[49m\u001b[43m \u001b[49m\u001b[38;5;241;43m=\u001b[39;49m\u001b[43m \u001b[49m\u001b[43mjson\u001b[49m\u001b[38;5;241;43m.\u001b[39;49m\u001b[43mload\u001b[49m\u001b[43m(\u001b[49m\u001b[43mfile\u001b[49m\u001b[43m)\u001b[49m\n\u001b[0;32m      4\u001b[0m \u001b[43m    \u001b[49m\u001b[43mcolumn_names\u001b[49m\u001b[43m \u001b[49m\u001b[38;5;241;43m=\u001b[39;49m\u001b[43m \u001b[49m\u001b[43m[\u001b[49m\u001b[38;5;124;43m\"\u001b[39;49m\u001b[38;5;124;43muser_prompt\u001b[39;49m\u001b[38;5;124;43m\"\u001b[39;49m\u001b[43m,\u001b[49m\u001b[43m \u001b[49m\u001b[38;5;124;43m\"\u001b[39;49m\u001b[38;5;124;43moutput_prompt\u001b[39;49m\u001b[38;5;124;43m\"\u001b[39;49m\u001b[43m,\u001b[49m\u001b[43m \u001b[49m\u001b[38;5;124;43m\"\u001b[39;49m\u001b[38;5;124;43mcontext\u001b[39;49m\u001b[38;5;124;43m\"\u001b[39;49m\u001b[43m]\u001b[49m\n",
      "\u001b[1;31mKeyboardInterrupt\u001b[0m: "
     ]
    }
   ],
   "source": [
    "\n",
    "with open(\"./output/qa/evaluation/solution-ops-200-qa-generated-answer\", \"r\", encoding=\"utf-8\") as file:\n",
    "    qa_evluation_data = json.load(file)\n",
    "    column_names = [\"user_prompt\", \"output_prompt\", \"context\"]\n",
    "    final_df = pd.DataFrame(columns=column_names)\n",
    "    final_df.from_dict(qa_evluation_data)\n",
    "    # df = pd.DataFrame.from_records(map(json.loads, qa_evluation_data))\n",
    "    try:\n",
    "        results = mlflow.evaluate(data=final_df, predictions=\"generated_output\", model_type=\"question-answering\", extra_metrics=[faithfulness_metric, relevance_metric, mlflow.metrics.latency()],\n",
    "        evaluator_config={\n",
    "                \"col_mapping\": {\n",
    "                    \"inputs\": \"output_prompt\", # Define the column name for the input\n",
    "                    \"context\": \"source\",\n",
    "                }\n",
    "            })\n",
    "        print(results)\n",
    "    except Exception as e:\n",
    "        print(e)"
   ]
  },
  {
   "cell_type": "code",
   "execution_count": null,
   "metadata": {},
   "outputs": [],
   "source": [
    "import openai\n",
    "\n",
    "openai.api_key = os.getenv(\"AZURE_OPENAI_API_KEY\")\n",
    "openai.api_base = os.getenv(\n",
    "    \"AZURE_OPENAI_ENDPOINT\"\n",
    ")  # your endpoint should look like the following https://YOUR_RESOURCE_NAME.openai.azure.com/\n",
    "openai.api_type = \"azure\"\n",
    "openai.api_version = \"2023-07-01-preview\"  # this might change in the future\n",
    "\n",
    "\n",
    "def call_aoai_gpt4(messages: list[dict]):\n",
    "    response = openai.ChatCompletion.create(\n",
    "        engine=aoi_deployment_name, messages=messages  # engine = \"deployment_name\".\n",
    "    )\n",
    "\n",
    "    return response.choices[0].message.content"
   ]
  },
  {
   "cell_type": "markdown",
   "metadata": {},
   "source": [
    "## Create experiment\n"
   ]
  },
  {
   "cell_type": "code",
   "execution_count": 3,
   "metadata": {},
   "outputs": [
    {
     "data": {
      "text/plain": [
       "'541817325950158082'"
      ]
     },
     "execution_count": 3,
     "metadata": {},
     "output_type": "execute_result"
    }
   ],
   "source": [
    "experiment_name = \"test-experiment\"\n",
    "mlflow.create_experiment(experiment_name)"
   ]
  },
  {
   "cell_type": "code",
   "execution_count": 21,
   "metadata": {},
   "outputs": [
    {
     "name": "stderr",
     "output_type": "stream",
     "text": [
      "c:\\Projects\\Workshop2024\\.venv\\Lib\\site-packages\\mlflow\\data\\digest_utils.py:29: FutureWarning: DataFrame.applymap has been deprecated. Use DataFrame.map instead.\n",
      "  string_columns = trimmed_df.columns[(df.applymap(type) == str).all(0)]\n",
      "c:\\Projects\\Workshop2024\\.venv\\Lib\\site-packages\\mlflow\\models\\evaluation\\base.py:414: FutureWarning: DataFrame.applymap has been deprecated. Use DataFrame.map instead.\n",
      "  data = data.applymap(_hash_array_like_element_as_bytes)\n",
      "2024/02/12 18:08:48 INFO mlflow.models.evaluation.base: Evaluating the model with the default evaluator.\n",
      "2024/02/12 18:08:48 WARNING mlflow.models.evaluation.default_evaluator: Setting the latency to 0 for all entries because the model is not provided.\n",
      "2024/02/12 18:08:48 INFO mlflow.models.evaluation.default_evaluator: Testing metrics on first row...\n",
      "2024/02/12 18:08:48 WARNING mlflow.metrics.metric_definitions: Failed to load 'toxicity' metric (error: ModuleNotFoundError(\"No module named 'evaluate'\")), skipping metric logging.\n",
      "2024/02/12 18:08:48 WARNING mlflow.metrics.metric_definitions: Failed to load flesch kincaid metric, skipping metric logging.\n",
      "2024/02/12 18:08:48 WARNING mlflow.metrics.metric_definitions: Failed to load automated readability index metric, skipping metric logging.\n",
      "100%|██████████| 1/1 [00:00<00:00,  1.60it/s]\n",
      "100%|██████████| 1/1 [00:00<00:00,  1.30it/s]\n",
      "2024/02/12 18:08:49 INFO mlflow.models.evaluation.default_evaluator: Evaluating builtin metrics: token_count\n",
      "2024/02/12 18:08:49 INFO mlflow.models.evaluation.default_evaluator: Evaluating builtin metrics: toxicity\n",
      "2024/02/12 18:08:49 WARNING mlflow.metrics.metric_definitions: Failed to load 'toxicity' metric (error: ModuleNotFoundError(\"No module named 'evaluate'\")), skipping metric logging.\n",
      "2024/02/12 18:08:49 INFO mlflow.models.evaluation.default_evaluator: Evaluating builtin metrics: flesch_kincaid_grade_level\n",
      "2024/02/12 18:08:49 WARNING mlflow.metrics.metric_definitions: Failed to load flesch kincaid metric, skipping metric logging.\n",
      "2024/02/12 18:08:49 INFO mlflow.models.evaluation.default_evaluator: Evaluating builtin metrics: ari_grade_level\n",
      "2024/02/12 18:08:49 WARNING mlflow.metrics.metric_definitions: Failed to load automated readability index metric, skipping metric logging.\n",
      "2024/02/12 18:08:49 INFO mlflow.models.evaluation.default_evaluator: Evaluating builtin metrics: exact_match\n",
      "2024/02/12 18:08:49 INFO mlflow.models.evaluation.default_evaluator: Evaluating metrics: faithfulness\n",
      "100%|██████████| 7/7 [00:01<00:00,  5.36it/s]\n",
      "2024/02/12 18:08:51 INFO mlflow.models.evaluation.default_evaluator: Evaluating metrics: relevance\n",
      "100%|██████████| 7/7 [00:01<00:00,  4.60it/s]\n"
     ]
    }
   ],
   "source": [
    "import json\n",
    "import pandas as pd\n",
    "\n",
    "# experiment_name = \"test-experiment\"\n",
    "# mlflow.create_experiment(experiment_name, artifact_location=\"s3://your-bucket\")\n",
    "\n",
    "with open(\"./output/qa/evaluation/solution-ops-200-qa-generated-answer\", \"r\", encoding=\"utf-8\") as file:\n",
    "    qa_evluation_data = json.load(file)\n",
    "    df = pd.DataFrame.from_records(qa_evluation_data)\n",
    "    # mlflow.set_tracking_uri(mlflow_tracking_uri)\n",
    "    mlflow.set_experiment(\"test-experiment\")\n",
    "    with mlflow.start_run(run_name=\"run1\") as run:\n",
    "        results = mlflow.evaluate(data=df, predictions=\"generated_output\", model_type=\"question-answering\", extra_metrics=[faithfulness_metric, relevance_metric, mlflow.metrics.latency()],\n",
    "        evaluator_config={\n",
    "                \"col_mapping\": {\n",
    "                    \"inputs\": \"output_prompt\", # Define the column name for the input\n",
    "                    \"context\": \"source\",\n",
    "                }\n",
    "            })\n",
    "\n",
    "        # mlflow.log_metric('toxicity', results.metrics['toxicity/v1/p90'])\n",
    "        mlflow.log_metric('faithfulness_mean', results.metrics['faithfulness/v1/mean'])"
   ]
  },
  {
   "cell_type": "code",
   "execution_count": 22,
   "metadata": {},
   "outputs": [
    {
     "data": {
      "text/plain": [
       "{'latency/mean': 0.0,\n",
       " 'latency/variance': 0.0,\n",
       " 'latency/p90': 0.0,\n",
       " 'faithfulness/v1/mean': 3.857142857142857,\n",
       " 'faithfulness/v1/variance': 1.5510204081632657,\n",
       " 'faithfulness/v1/p90': 5.0,\n",
       " 'relevance/v1/mean': 3.4285714285714284,\n",
       " 'relevance/v1/variance': 1.1020408163265307,\n",
       " 'relevance/v1/p90': 4.0}"
      ]
     },
     "execution_count": 22,
     "metadata": {},
     "output_type": "execute_result"
    }
   ],
   "source": [
    "results.metrics"
   ]
  }
 ],
 "metadata": {
  "kernelspec": {
   "display_name": ".venv",
   "language": "python",
   "name": "python3"
  },
  "language_info": {
   "codemirror_mode": {
    "name": "ipython",
    "version": 3
   },
   "file_extension": ".py",
   "mimetype": "text/x-python",
   "name": "python",
   "nbconvert_exporter": "python",
   "pygments_lexer": "ipython3",
   "version": "3.11.4"
  }
 },
 "nbformat": 4,
 "nbformat_minor": 2
}
