{
 "cells": [
  {
   "cell_type": "markdown",
   "metadata": {},
   "source": [
    "Open source models should be used when you need more control over the model, such as running it offline, fine-tuning it, or customizing it for your specific needs. They can also be used when you want to compare different models and evaluate them in your own application scenario. However, open source models may require more engineering effort, have lower performance on some tasks, and have less safety and content filtering features than closed source models. "
   ]
  },
  {
   "cell_type": "code",
   "execution_count": null,
   "metadata": {},
   "outputs": [],
   "source": []
  }
 ],
 "metadata": {
  "language_info": {
   "name": "python"
  }
 },
 "nbformat": 4,
 "nbformat_minor": 2
}
