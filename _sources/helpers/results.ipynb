{
 "cells": [
  {
   "cell_type": "code",
   "execution_count": 5,
   "metadata": {},
   "outputs": [
    {
     "data": {
      "text/html": [
       "<div>\n",
       "<style scoped>\n",
       "    .dataframe tbody tr th:only-of-type {\n",
       "        vertical-align: middle;\n",
       "    }\n",
       "\n",
       "    .dataframe tbody tr th {\n",
       "        vertical-align: top;\n",
       "    }\n",
       "\n",
       "    .dataframe thead th {\n",
       "        text-align: right;\n",
       "    }\n",
       "</style>\n",
       "<table border=\"1\" class=\"dataframe\">\n",
       "  <thead>\n",
       "    <tr style=\"text-align: right;\">\n",
       "      <th></th>\n",
       "      <th>Average cosine</th>\n",
       "      <th>Median cosine</th>\n",
       "      <th>Accuracy</th>\n",
       "    </tr>\n",
       "  </thead>\n",
       "  <tbody>\n",
       "    <tr>\n",
       "      <th>Markdown Header Text Splitter</th>\n",
       "      <td>0.807733</td>\n",
       "      <td>0.803647</td>\n",
       "      <td>29.000000</td>\n",
       "    </tr>\n",
       "    <tr>\n",
       "      <th>Markdown Text Splitter</th>\n",
       "      <td>0.821414</td>\n",
       "      <td>0.795069</td>\n",
       "      <td>25.666667</td>\n",
       "    </tr>\n",
       "    <tr>\n",
       "      <th>Semantic Chunking</th>\n",
       "      <td>0.864001</td>\n",
       "      <td>0.873991</td>\n",
       "      <td>70.333333</td>\n",
       "    </tr>\n",
       "  </tbody>\n",
       "</table>\n",
       "</div>"
      ],
      "text/plain": [
       "                               Average cosine  Median cosine   Accuracy\n",
       "Markdown Header Text Splitter        0.807733       0.803647  29.000000\n",
       "Markdown Text Splitter               0.821414       0.795069  25.666667\n",
       "Semantic Chunking                    0.864001       0.873991  70.333333"
      ]
     },
     "execution_count": 5,
     "metadata": {},
     "output_type": "execute_result"
    }
   ],
   "source": [
    "import pandas as pd\n",
    "\n",
    "# Chunking experiment\n",
    "semantic_chunking = [0.8640008890623165, 0.8739910472047012, 70.33333333333334]\n",
    "fixed_size = [0.8214135393234611, 0.7950691820676911,  25.666666666666664]\n",
    "markdown_header_text_splitter = [\n",
    "    0.8077330619452607, 0.8036465351518314, 28.999999999999996]\n",
    "\n",
    "table = [markdown_header_text_splitter, fixed_size,  semantic_chunking]\n",
    "\n",
    "df = pd.DataFrame(table, columns=['Average cosine', 'Median cosine', 'Accuracy'], index=[\n",
    "\n",
    "                  'Markdown Header Text Splitter', 'Markdown Text Splitter', 'Semantic Chunking'])\n",
    "\n",
    "df"
   ]
  },
  {
   "cell_type": "code",
   "execution_count": 8,
   "metadata": {},
   "outputs": [
    {
     "data": {
      "text/html": [
       "<div>\n",
       "<style scoped>\n",
       "    .dataframe tbody tr th:only-of-type {\n",
       "        vertical-align: middle;\n",
       "    }\n",
       "\n",
       "    .dataframe tbody tr th {\n",
       "        vertical-align: top;\n",
       "    }\n",
       "\n",
       "    .dataframe thead th {\n",
       "        text-align: right;\n",
       "    }\n",
       "</style>\n",
       "<table border=\"1\" class=\"dataframe\">\n",
       "  <thead>\n",
       "    <tr style=\"text-align: right;\">\n",
       "      <th></th>\n",
       "      <th>Average cosine</th>\n",
       "      <th>Median cosine</th>\n",
       "      <th>Accuracy</th>\n",
       "    </tr>\n",
       "  </thead>\n",
       "  <tbody>\n",
       "    <tr>\n",
       "      <th>text-embedding-ada-002</th>\n",
       "      <td>0.821414</td>\n",
       "      <td>0.795069</td>\n",
       "      <td>25.666667</td>\n",
       "    </tr>\n",
       "    <tr>\n",
       "      <th>intfloat/e5-small-v2</th>\n",
       "      <td>0.959607</td>\n",
       "      <td>1.000000</td>\n",
       "      <td>88.333333</td>\n",
       "    </tr>\n",
       "  </tbody>\n",
       "</table>\n",
       "</div>"
      ],
      "text/plain": [
       "                        Average cosine  Median cosine   Accuracy\n",
       "text-embedding-ada-002        0.821414       0.795069  25.666667\n",
       "intfloat/e5-small-v2          0.959607       1.000000  88.333333"
      ]
     },
     "execution_count": 8,
     "metadata": {},
     "output_type": "execute_result"
    }
   ],
   "source": [
    "import pandas as pd\n",
    "\n",
    "# Embedding experiment\n",
    "open_source = [0.9596070531525336, 0.999999999999999,  88.33333333333333]\n",
    "aoi = [\n",
    "    0.8214135393234611, 0.7950691820676911, 25.666666666666664]\n",
    "\n",
    "table = [aoi, open_source]\n",
    "\n",
    "df = pd.DataFrame(table, columns=['Average cosine', 'Median cosine', 'Accuracy'], index=[\n",
    "\n",
    "                  'text-embedding-ada-002', 'intfloat/e5-small-v2'])\n",
    "\n",
    "df"
   ]
  }
 ],
 "metadata": {
  "kernelspec": {
   "display_name": ".venv",
   "language": "python",
   "name": "python3"
  },
  "language_info": {
   "codemirror_mode": {
    "name": "ipython",
    "version": 3
   },
   "file_extension": ".py",
   "mimetype": "text/x-python",
   "name": "python",
   "nbconvert_exporter": "python",
   "pygments_lexer": "ipython3",
   "version": "3.12.2"
  }
 },
 "nbformat": 4,
 "nbformat_minor": 2
}
