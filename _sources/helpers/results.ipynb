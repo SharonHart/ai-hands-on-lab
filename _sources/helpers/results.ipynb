{
 "cells": [
  {
   "cell_type": "code",
   "execution_count": 4,
   "metadata": {},
   "outputs": [
    {
     "data": {
      "text/html": [
       "<div>\n",
       "<style scoped>\n",
       "    .dataframe tbody tr th:only-of-type {\n",
       "        vertical-align: middle;\n",
       "    }\n",
       "\n",
       "    .dataframe tbody tr th {\n",
       "        vertical-align: top;\n",
       "    }\n",
       "\n",
       "    .dataframe thead th {\n",
       "        text-align: right;\n",
       "    }\n",
       "</style>\n",
       "<table border=\"1\" class=\"dataframe\">\n",
       "  <thead>\n",
       "    <tr style=\"text-align: right;\">\n",
       "      <th></th>\n",
       "      <th>Average cosine</th>\n",
       "      <th>Median cosine</th>\n",
       "      <th>Accuracy</th>\n",
       "    </tr>\n",
       "  </thead>\n",
       "  <tbody>\n",
       "    <tr>\n",
       "      <th>Markdown Header Text Splitter</th>\n",
       "      <td>0.841499</td>\n",
       "      <td>0.848917</td>\n",
       "      <td>63.666667</td>\n",
       "    </tr>\n",
       "    <tr>\n",
       "      <th>Markdown Text Splitter</th>\n",
       "      <td>0.945939</td>\n",
       "      <td>1.000000</td>\n",
       "      <td>91.666667</td>\n",
       "    </tr>\n",
       "    <tr>\n",
       "      <th>Semantic Chunking</th>\n",
       "      <td>0.863908</td>\n",
       "      <td>0.873320</td>\n",
       "      <td>70.333333</td>\n",
       "    </tr>\n",
       "  </tbody>\n",
       "</table>\n",
       "</div>"
      ],
      "text/plain": [
       "                               Average cosine  Median cosine   Accuracy\n",
       "Markdown Header Text Splitter        0.841499       0.848917  63.666667\n",
       "Markdown Text Splitter               0.945939       1.000000  91.666667\n",
       "Semantic Chunking                    0.863908       0.873320  70.333333"
      ]
     },
     "execution_count": 4,
     "metadata": {},
     "output_type": "execute_result"
    }
   ],
   "source": [
    "import pandas as pd\n",
    "\n",
    "# Chunking experiment\n",
    "semantic_chunking = [0.863908228230966, 0.8733201265149726, 70.33333333333334]\n",
    "fixed_size = [0.9459390793141736, 1.0,  91.66666666666666]\n",
    "markdown_header_text_splitter = [\n",
    "    0.8414986225645392, 0.8489170107048145, 63.66666666666667]\n",
    "\n",
    "table = [markdown_header_text_splitter, fixed_size,  semantic_chunking]\n",
    "\n",
    "df = pd.DataFrame(table, columns=['Average cosine', 'Median cosine', 'Accuracy'], index=[\n",
    "\n",
    "                  'Markdown Header Text Splitter', 'Markdown Text Splitter', 'Semantic Chunking'])\n",
    "\n",
    "df"
   ]
  },
  {
   "cell_type": "code",
   "execution_count": 6,
   "metadata": {},
   "outputs": [
    {
     "data": {
      "text/html": [
       "<div>\n",
       "<style scoped>\n",
       "    .dataframe tbody tr th:only-of-type {\n",
       "        vertical-align: middle;\n",
       "    }\n",
       "\n",
       "    .dataframe tbody tr th {\n",
       "        vertical-align: top;\n",
       "    }\n",
       "\n",
       "    .dataframe thead th {\n",
       "        text-align: right;\n",
       "    }\n",
       "</style>\n",
       "<table border=\"1\" class=\"dataframe\">\n",
       "  <thead>\n",
       "    <tr style=\"text-align: right;\">\n",
       "      <th></th>\n",
       "      <th>Average cosine</th>\n",
       "      <th>Median cosine</th>\n",
       "      <th>Accuracy</th>\n",
       "    </tr>\n",
       "  </thead>\n",
       "  <tbody>\n",
       "    <tr>\n",
       "      <th>text-embedding-ada-002</th>\n",
       "      <td>0.945939</td>\n",
       "      <td>1.0</td>\n",
       "      <td>91.666667</td>\n",
       "    </tr>\n",
       "    <tr>\n",
       "      <th>intfloat/e5-small-v2</th>\n",
       "      <td>0.959607</td>\n",
       "      <td>1.0</td>\n",
       "      <td>88.333333</td>\n",
       "    </tr>\n",
       "  </tbody>\n",
       "</table>\n",
       "</div>"
      ],
      "text/plain": [
       "                        Average cosine  Median cosine   Accuracy\n",
       "text-embedding-ada-002        0.945939            1.0  91.666667\n",
       "intfloat/e5-small-v2          0.959607            1.0  88.333333"
      ]
     },
     "execution_count": 6,
     "metadata": {},
     "output_type": "execute_result"
    }
   ],
   "source": [
    "import pandas as pd\n",
    "\n",
    "# Embedding experiment\n",
    "open_source = [0.9596070531525336, 0.999999999999999,  88.33333333333333]\n",
    "aoi = [0.9459390793141736, 1.0,  91.66666666666666]\n",
    "\n",
    "table = [aoi, open_source]\n",
    "\n",
    "df = pd.DataFrame(table, columns=['Average cosine', 'Median cosine', 'Accuracy'], index=[\n",
    "\n",
    "                  'text-embedding-ada-002', 'intfloat/e5-small-v2'])\n",
    "\n",
    "df"
   ]
  },
  {
   "cell_type": "code",
   "execution_count": 10,
   "metadata": {},
   "outputs": [
    {
     "data": {
      "text/html": [
       "<div>\n",
       "<style scoped>\n",
       "    .dataframe tbody tr th:only-of-type {\n",
       "        vertical-align: middle;\n",
       "    }\n",
       "\n",
       "    .dataframe tbody tr th {\n",
       "        vertical-align: top;\n",
       "    }\n",
       "\n",
       "    .dataframe thead th {\n",
       "        text-align: right;\n",
       "    }\n",
       "</style>\n",
       "<table border=\"1\" class=\"dataframe\">\n",
       "  <thead>\n",
       "    <tr style=\"text-align: right;\">\n",
       "      <th></th>\n",
       "      <th>Relevance</th>\n",
       "      <th>Faithfulness</th>\n",
       "      <th>Coherence</th>\n",
       "      <th>Fluency</th>\n",
       "    </tr>\n",
       "  </thead>\n",
       "  <tbody>\n",
       "    <tr>\n",
       "      <th>semantic_chunking_e5</th>\n",
       "      <td>3.470000</td>\n",
       "      <td>3.806020</td>\n",
       "      <td>3.530201</td>\n",
       "      <td>3.508418</td>\n",
       "    </tr>\n",
       "    <tr>\n",
       "      <th>fixed_size_aoai_ada</th>\n",
       "      <td>2.206667</td>\n",
       "      <td>2.979933</td>\n",
       "      <td>3.463333</td>\n",
       "      <td>4.410959</td>\n",
       "    </tr>\n",
       "  </tbody>\n",
       "</table>\n",
       "</div>"
      ],
      "text/plain": [
       "                      Relevance  Faithfulness  Coherence   Fluency\n",
       "semantic_chunking_e5   3.470000      3.806020   3.530201  3.508418\n",
       "fixed_size_aoai_ada    2.206667      2.979933   3.463333  4.410959"
      ]
     },
     "execution_count": 10,
     "metadata": {},
     "output_type": "execute_result"
    }
   ],
   "source": [
    "import pandas as pd\n",
    "\n",
    "# Embedding experiment\n",
    "semantic_chunking_e5_eval = [3.470000, 3.806020,  3.530201, 3.508418]\n",
    "fixed_size_ada_eval = [2.206667, 2.979933, 3.463333, 4.410959]\n",
    "\n",
    "table = [semantic_chunking_e5_eval, fixed_size_ada_eval]\n",
    "\n",
    "df = pd.DataFrame(table, columns=['Relevance', 'Faithfulness', 'Coherence', 'Fluency'], index=[\n",
    "\n",
    "                  'semantic_chunking_e5', 'fixed_size_aoai_ada'])\n",
    "\n",
    "df"
   ]
  },
  {
   "cell_type": "code",
   "execution_count": null,
   "metadata": {},
   "outputs": [],
   "source": []
  }
 ],
 "metadata": {
  "kernelspec": {
   "display_name": ".venv",
   "language": "python",
   "name": "python3"
  },
  "language_info": {
   "codemirror_mode": {
    "name": "ipython",
    "version": 3
   },
   "file_extension": ".py",
   "mimetype": "text/x-python",
   "name": "python",
   "nbconvert_exporter": "python",
   "pygments_lexer": "ipython3",
   "version": "3.9.10"
  }
 },
 "nbformat": 4,
 "nbformat_minor": 2
}
