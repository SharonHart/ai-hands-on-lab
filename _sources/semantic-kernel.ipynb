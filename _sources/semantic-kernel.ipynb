{
 "cells": [
  {
   "cell_type": "markdown",
   "metadata": {},
   "source": [
    "Semantic Kernel"
   ]
  },
  {
   "cell_type": "code",
   "execution_count": 18,
   "metadata": {},
   "outputs": [
    {
     "name": "stdout",
     "output_type": "stream",
     "text": [
      "Requirement already satisfied: semantic-kernel==0.4.7.dev0 in c:\\projects\\workshop2024\\.venv\\lib\\site-packages (0.4.7.dev0)\n",
      "Requirement already satisfied: aiofiles<24.0.0,>=23.1.0 in c:\\projects\\workshop2024\\.venv\\lib\\site-packages (from semantic-kernel==0.4.7.dev0) (23.2.1)\n",
      "Requirement already satisfied: aiohttp<4.0,>=3.8 in c:\\projects\\workshop2024\\.venv\\lib\\site-packages (from semantic-kernel==0.4.7.dev0) (3.9.3)\n",
      "Requirement already satisfied: motor<4.0.0,>=3.3.1 in c:\\projects\\workshop2024\\.venv\\lib\\site-packages (from semantic-kernel==0.4.7.dev0) (3.3.2)\n",
      "Requirement already satisfied: numpy<2.0.0,>=1.24.2 in c:\\projects\\workshop2024\\.venv\\lib\\site-packages (from semantic-kernel==0.4.7.dev0) (1.26.3)\n",
      "Requirement already satisfied: openai>=1.0 in c:\\projects\\workshop2024\\.venv\\lib\\site-packages (from semantic-kernel==0.4.7.dev0) (1.9.0)\n",
      "Requirement already satisfied: openapi_core<0.19.0,>=0.18.0 in c:\\projects\\workshop2024\\.venv\\lib\\site-packages (from semantic-kernel==0.4.7.dev0) (0.18.2)\n",
      "Requirement already satisfied: prance<24.0.0.0,>=23.6.21.0 in c:\\projects\\workshop2024\\.venv\\lib\\site-packages (from semantic-kernel==0.4.7.dev0) (23.6.21.0)\n",
      "Requirement already satisfied: pydantic>2 in c:\\projects\\workshop2024\\.venv\\lib\\site-packages (from semantic-kernel==0.4.7.dev0) (2.5.3)\n",
      "Requirement already satisfied: python-dotenv==1.0.0 in c:\\projects\\workshop2024\\.venv\\lib\\site-packages (from semantic-kernel==0.4.7.dev0) (1.0.0)\n",
      "Requirement already satisfied: regex<2024.0.0,>=2023.6.3 in c:\\projects\\workshop2024\\.venv\\lib\\site-packages (from semantic-kernel==0.4.7.dev0) (2023.12.25)\n",
      "Requirement already satisfied: aiosignal>=1.1.2 in c:\\projects\\workshop2024\\.venv\\lib\\site-packages (from aiohttp<4.0,>=3.8->semantic-kernel==0.4.7.dev0) (1.3.1)\n",
      "Requirement already satisfied: attrs>=17.3.0 in c:\\projects\\workshop2024\\.venv\\lib\\site-packages (from aiohttp<4.0,>=3.8->semantic-kernel==0.4.7.dev0) (23.2.0)\n",
      "Requirement already satisfied: frozenlist>=1.1.1 in c:\\projects\\workshop2024\\.venv\\lib\\site-packages (from aiohttp<4.0,>=3.8->semantic-kernel==0.4.7.dev0) (1.4.1)\n",
      "Requirement already satisfied: multidict<7.0,>=4.5 in c:\\projects\\workshop2024\\.venv\\lib\\site-packages (from aiohttp<4.0,>=3.8->semantic-kernel==0.4.7.dev0) (6.0.4)\n",
      "Requirement already satisfied: yarl<2.0,>=1.0 in c:\\projects\\workshop2024\\.venv\\lib\\site-packages (from aiohttp<4.0,>=3.8->semantic-kernel==0.4.7.dev0) (1.9.4)\n",
      "Requirement already satisfied: pymongo<5,>=4.5 in c:\\projects\\workshop2024\\.venv\\lib\\site-packages (from motor<4.0.0,>=3.3.1->semantic-kernel==0.4.7.dev0) (4.6.1)\n",
      "Requirement already satisfied: anyio<5,>=3.5.0 in c:\\projects\\workshop2024\\.venv\\lib\\site-packages (from openai>=1.0->semantic-kernel==0.4.7.dev0) (4.2.0)\n",
      "Requirement already satisfied: distro<2,>=1.7.0 in c:\\projects\\workshop2024\\.venv\\lib\\site-packages (from openai>=1.0->semantic-kernel==0.4.7.dev0) (1.9.0)\n",
      "Requirement already satisfied: httpx<1,>=0.23.0 in c:\\projects\\workshop2024\\.venv\\lib\\site-packages (from openai>=1.0->semantic-kernel==0.4.7.dev0) (0.26.0)\n",
      "Requirement already satisfied: sniffio in c:\\projects\\workshop2024\\.venv\\lib\\site-packages (from openai>=1.0->semantic-kernel==0.4.7.dev0) (1.3.0)\n",
      "Requirement already satisfied: tqdm>4 in c:\\projects\\workshop2024\\.venv\\lib\\site-packages (from openai>=1.0->semantic-kernel==0.4.7.dev0) (4.66.1)\n",
      "Requirement already satisfied: typing-extensions<5,>=4.7 in c:\\projects\\workshop2024\\.venv\\lib\\site-packages (from openai>=1.0->semantic-kernel==0.4.7.dev0) (4.9.0)\n",
      "Requirement already satisfied: asgiref<4.0.0,>=3.6.0 in c:\\projects\\workshop2024\\.venv\\lib\\site-packages (from openapi_core<0.19.0,>=0.18.0->semantic-kernel==0.4.7.dev0) (3.7.2)\n",
      "Requirement already satisfied: isodate in c:\\projects\\workshop2024\\.venv\\lib\\site-packages (from openapi_core<0.19.0,>=0.18.0->semantic-kernel==0.4.7.dev0) (0.6.1)\n",
      "Requirement already satisfied: jsonschema<5.0.0,>=4.18.0 in c:\\projects\\workshop2024\\.venv\\lib\\site-packages (from openapi_core<0.19.0,>=0.18.0->semantic-kernel==0.4.7.dev0) (4.21.1)\n",
      "Requirement already satisfied: jsonschema-spec<0.3.0,>=0.2.3 in c:\\projects\\workshop2024\\.venv\\lib\\site-packages (from openapi_core<0.19.0,>=0.18.0->semantic-kernel==0.4.7.dev0) (0.2.4)\n",
      "Requirement already satisfied: more-itertools in c:\\projects\\workshop2024\\.venv\\lib\\site-packages (from openapi_core<0.19.0,>=0.18.0->semantic-kernel==0.4.7.dev0) (10.2.0)\n",
      "Requirement already satisfied: openapi-schema-validator<0.7.0,>=0.6.0 in c:\\projects\\workshop2024\\.venv\\lib\\site-packages (from openapi_core<0.19.0,>=0.18.0->semantic-kernel==0.4.7.dev0) (0.6.2)\n",
      "Requirement already satisfied: openapi-spec-validator<0.8.0,>=0.7.1 in c:\\projects\\workshop2024\\.venv\\lib\\site-packages (from openapi_core<0.19.0,>=0.18.0->semantic-kernel==0.4.7.dev0) (0.7.1)\n",
      "Requirement already satisfied: parse in c:\\projects\\workshop2024\\.venv\\lib\\site-packages (from openapi_core<0.19.0,>=0.18.0->semantic-kernel==0.4.7.dev0) (1.20.1)\n",
      "Requirement already satisfied: werkzeug in c:\\projects\\workshop2024\\.venv\\lib\\site-packages (from openapi_core<0.19.0,>=0.18.0->semantic-kernel==0.4.7.dev0) (3.0.1)\n",
      "Requirement already satisfied: chardet>=3.0 in c:\\projects\\workshop2024\\.venv\\lib\\site-packages (from prance<24.0.0.0,>=23.6.21.0->semantic-kernel==0.4.7.dev0) (5.2.0)\n",
      "Requirement already satisfied: ruamel.yaml>=0.17.10 in c:\\projects\\workshop2024\\.venv\\lib\\site-packages (from prance<24.0.0.0,>=23.6.21.0->semantic-kernel==0.4.7.dev0) (0.18.5)\n",
      "Requirement already satisfied: requests>=2.25 in c:\\projects\\workshop2024\\.venv\\lib\\site-packages (from prance<24.0.0.0,>=23.6.21.0->semantic-kernel==0.4.7.dev0) (2.31.0)\n",
      "Requirement already satisfied: six~=1.15 in c:\\projects\\workshop2024\\.venv\\lib\\site-packages (from prance<24.0.0.0,>=23.6.21.0->semantic-kernel==0.4.7.dev0) (1.16.0)\n",
      "Requirement already satisfied: packaging>=21.3 in c:\\projects\\workshop2024\\.venv\\lib\\site-packages (from prance<24.0.0.0,>=23.6.21.0->semantic-kernel==0.4.7.dev0) (23.2)\n",
      "Requirement already satisfied: annotated-types>=0.4.0 in c:\\projects\\workshop2024\\.venv\\lib\\site-packages (from pydantic>2->semantic-kernel==0.4.7.dev0) (0.6.0)\n",
      "Requirement already satisfied: pydantic-core==2.14.6 in c:\\projects\\workshop2024\\.venv\\lib\\site-packages (from pydantic>2->semantic-kernel==0.4.7.dev0) (2.14.6)\n",
      "Requirement already satisfied: idna>=2.8 in c:\\projects\\workshop2024\\.venv\\lib\\site-packages (from anyio<5,>=3.5.0->openai>=1.0->semantic-kernel==0.4.7.dev0) (3.6)\n",
      "Requirement already satisfied: certifi in c:\\projects\\workshop2024\\.venv\\lib\\site-packages (from httpx<1,>=0.23.0->openai>=1.0->semantic-kernel==0.4.7.dev0) (2023.11.17)\n",
      "Requirement already satisfied: httpcore==1.* in c:\\projects\\workshop2024\\.venv\\lib\\site-packages (from httpx<1,>=0.23.0->openai>=1.0->semantic-kernel==0.4.7.dev0) (1.0.2)\n",
      "Requirement already satisfied: h11<0.15,>=0.13 in c:\\projects\\workshop2024\\.venv\\lib\\site-packages (from httpcore==1.*->httpx<1,>=0.23.0->openai>=1.0->semantic-kernel==0.4.7.dev0) (0.14.0)\n",
      "Requirement already satisfied: jsonschema-specifications>=2023.03.6 in c:\\projects\\workshop2024\\.venv\\lib\\site-packages (from jsonschema<5.0.0,>=4.18.0->openapi_core<0.19.0,>=0.18.0->semantic-kernel==0.4.7.dev0) (2023.7.1)\n",
      "Requirement already satisfied: referencing>=0.28.4 in c:\\projects\\workshop2024\\.venv\\lib\\site-packages (from jsonschema<5.0.0,>=4.18.0->openapi_core<0.19.0,>=0.18.0->semantic-kernel==0.4.7.dev0) (0.30.2)\n",
      "Requirement already satisfied: rpds-py>=0.7.1 in c:\\projects\\workshop2024\\.venv\\lib\\site-packages (from jsonschema<5.0.0,>=4.18.0->openapi_core<0.19.0,>=0.18.0->semantic-kernel==0.4.7.dev0) (0.17.1)\n",
      "Requirement already satisfied: PyYAML>=5.1 in c:\\projects\\workshop2024\\.venv\\lib\\site-packages (from jsonschema-spec<0.3.0,>=0.2.3->openapi_core<0.19.0,>=0.18.0->semantic-kernel==0.4.7.dev0) (6.0.1)\n",
      "Requirement already satisfied: pathable<0.5.0,>=0.4.1 in c:\\projects\\workshop2024\\.venv\\lib\\site-packages (from jsonschema-spec<0.3.0,>=0.2.3->openapi_core<0.19.0,>=0.18.0->semantic-kernel==0.4.7.dev0) (0.4.3)\n",
      "Requirement already satisfied: rfc3339-validator in c:\\projects\\workshop2024\\.venv\\lib\\site-packages (from openapi-schema-validator<0.7.0,>=0.6.0->openapi_core<0.19.0,>=0.18.0->semantic-kernel==0.4.7.dev0) (0.1.4)\n",
      "Requirement already satisfied: jsonschema-path<0.4.0,>=0.3.1 in c:\\projects\\workshop2024\\.venv\\lib\\site-packages (from openapi-spec-validator<0.8.0,>=0.7.1->openapi_core<0.19.0,>=0.18.0->semantic-kernel==0.4.7.dev0) (0.3.2)\n",
      "Requirement already satisfied: lazy-object-proxy<2.0.0,>=1.7.1 in c:\\projects\\workshop2024\\.venv\\lib\\site-packages (from openapi-spec-validator<0.8.0,>=0.7.1->openapi_core<0.19.0,>=0.18.0->semantic-kernel==0.4.7.dev0) (1.10.0)\n",
      "Requirement already satisfied: dnspython<3.0.0,>=1.16.0 in c:\\projects\\workshop2024\\.venv\\lib\\site-packages (from pymongo<5,>=4.5->motor<4.0.0,>=3.3.1->semantic-kernel==0.4.7.dev0) (2.5.0)\n",
      "Requirement already satisfied: charset-normalizer<4,>=2 in c:\\projects\\workshop2024\\.venv\\lib\\site-packages (from requests>=2.25->prance<24.0.0.0,>=23.6.21.0->semantic-kernel==0.4.7.dev0) (3.3.2)\n",
      "Requirement already satisfied: urllib3<3,>=1.21.1 in c:\\projects\\workshop2024\\.venv\\lib\\site-packages (from requests>=2.25->prance<24.0.0.0,>=23.6.21.0->semantic-kernel==0.4.7.dev0) (2.1.0)\n",
      "Requirement already satisfied: ruamel.yaml.clib>=0.2.7 in c:\\projects\\workshop2024\\.venv\\lib\\site-packages (from ruamel.yaml>=0.17.10->prance<24.0.0.0,>=23.6.21.0->semantic-kernel==0.4.7.dev0) (0.2.8)\n",
      "Requirement already satisfied: colorama in c:\\projects\\workshop2024\\.venv\\lib\\site-packages (from tqdm>4->openai>=1.0->semantic-kernel==0.4.7.dev0) (0.4.6)\n",
      "Requirement already satisfied: MarkupSafe>=2.1.1 in c:\\projects\\workshop2024\\.venv\\lib\\site-packages (from werkzeug->openapi_core<0.19.0,>=0.18.0->semantic-kernel==0.4.7.dev0) (2.1.4)\n"
     ]
    }
   ],
   "source": [
    "!python -m pip install semantic-kernel==0.4.7.dev0"
   ]
  },
  {
   "cell_type": "code",
   "execution_count": 23,
   "metadata": {},
   "outputs": [
    {
     "name": "stdout",
     "output_type": "stream",
     "text": [
      "Text completion services: []\n",
      "Chat completion services: []\n",
      "Text embedding generation services: []\n",
      "Text completion services: ['chat_completion']\n",
      "Chat completion services: ['chat_completion']\n",
      "Text embedding generation services: []\n"
     ]
    }
   ],
   "source": [
    "import semantic_kernel as sk\n",
    "from semantic_kernel.connectors.ai.open_ai import (\n",
    "    AzureChatCompletion,\n",
    "    AzureTextCompletion\n",
    ")\n",
    "deployment, api_key, endpoint = sk.azure_openai_settings_from_dot_env()\n",
    "\n",
    "kernel = sk.Kernel()\n",
    "print(f\"Text completion services: {kernel.all_text_completion_services()}\")\n",
    "print(f\"Chat completion services: {kernel.all_chat_services()}\")\n",
    "print(\n",
    "        f\"Text embedding generation services: {kernel.all_text_embedding_generation_services()}\"\n",
    "    )\n",
    "\n",
    "kernel.add_chat_service(\n",
    "    \"chat_completion\",\n",
    "    AzureChatCompletion(deployment_name=deployment, endpoint=endpoint, api_key=api_key)\n",
    ")"
   ]
  }
 ],
 "metadata": {
  "kernelspec": {
   "display_name": ".venv",
   "language": "python",
   "name": "python3"
  },
  "language_info": {
   "codemirror_mode": {
    "name": "ipython",
    "version": 3
   },
   "file_extension": ".py",
   "mimetype": "text/x-python",
   "name": "python",
   "nbconvert_exporter": "python",
   "pygments_lexer": "ipython3",
   "version": "3.11.4"
  }
 },
 "nbformat": 4,
 "nbformat_minor": 2
}
