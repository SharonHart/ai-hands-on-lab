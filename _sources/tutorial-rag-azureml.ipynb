{
 "cells": [
  {
   "cell_type": "code",
   "execution_count": 1,
   "metadata": {},
   "outputs": [],
   "source": [
    "subscription_id=\"77e0e886-66a0-48ff-be94-66a9737fac63\"\n",
    "resource_group_name=\"adnegrau-openai\"\n",
    "workspace_name=\"workshop-workspace-adina\""
   ]
  },
  {
   "cell_type": "markdown",
   "metadata": {},
   "source": [
    "Before running the next cell, make sure to run \"az login --tenant ...\""
   ]
  },
  {
   "cell_type": "code",
   "execution_count": 2,
   "metadata": {},
   "outputs": [
    {
     "name": "stderr",
     "output_type": "stream",
     "text": [
      "Warning: Falling back to use azure cli login credentials.\n",
      "If you run your code in unattended mode, i.e., where you can't give a user input, then we recommend to use ServicePrincipalAuthentication or MsiAuthentication.\n",
      "Please refer to aka.ms/aml-notebook-auth for different authentication mechanisms in azureml-sdk.\n"
     ]
    },
    {
     "name": "stdout",
     "output_type": "stream",
     "text": [
      "MLClient(credential=<azure.identity._credentials.default.DefaultAzureCredential object at 0x000002548288B810>,\n",
      "         subscription_id=77e0e886-66a0-48ff-be94-66a9737fac63,\n",
      "         resource_group_name=adnegrau-openai,\n",
      "         workspace_name=workshop-workspace-adina)\n"
     ]
    }
   ],
   "source": [
    "from azure.identity import DefaultAzureCredential, InteractiveBrowserCredential\n",
    "from azure.ai.ml import MLClient\n",
    "from azureml.core import Workspace\n",
    "\n",
    "try:\n",
    "    credential = DefaultAzureCredential()\n",
    "    # Check if given credential can get token successfully.\n",
    "    credential.get_token(\"https://management.azure.com/.default\")\n",
    "except Exception as ex:\n",
    "    # Fall back to InteractiveBrowserCredential in case DefaultAzureCredential not work\n",
    "    credential = InteractiveBrowserCredential()\n",
    "\n",
    "try:\n",
    "    ml_client = MLClient(\n",
    "        credential=credential,\n",
    "        subscription_id=subscription_id,\n",
    "        resource_group_name=resource_group_name,\n",
    "        workspace_name=workspace_name\n",
    "    )\n",
    "except Exception as ex:\n",
    "    raise Exception(\n",
    "        \"Failed to create MLClient. Please modify and then run the above cell with your AzureML Workspace details.\"\n",
    "    ) from ex\n",
    "\n",
    "ws = Workspace(\n",
    "    subscription_id=ml_client.subscription_id,\n",
    "    resource_group=ml_client.resource_group_name,\n",
    "    workspace_name=ml_client.workspace_name,\n",
    ")\n",
    "print(ml_client)"
   ]
  },
  {
   "cell_type": "markdown",
   "metadata": {},
   "source": [
    "### Which Embeddings Model to use?\n",
    "There are currently two supported Embedding options:\n",
    "- OpenAI: [`text-embedding-ada-002`](https://platform.openai.com/docs/guides/embeddings/what-are-embeddings), which can handle up to 8191 tokens. It can be accessed using [Azure OpenAI](https://learn.microsoft.com/en-us/azure/ai-services/openai/concepts/models#embeddings-models) or directly through OpenAI. If you don't have an existing Azure OpenAI instance, AzureML provisions a default one for you called `Default_AzureOpenAI`. It provides high quality embeddings, one aspect to take into consideration, though, is the cost/quota available for the model.\n",
    "- HuggingFace offers a wide range of models. The [MTEB Leaderboard](https://huggingface.co/spaces/mteb/leaderboard) ranks the performance of embeddings models on a few axis, though not all models can be run locally."
   ]
  },
  {
   "cell_type": "code",
   "execution_count": null,
   "metadata": {},
   "outputs": [],
   "source": [
    "aoai_connection_name = \"openai-adina\" #\"Default_AzureOpenAI\" # Default\n",
    "aoai_connection_id = None\n",
    "\n",
    "target = \"https://openai-adina.openai.azure.com/\" #Endpoint\n",
    "key = \"b3b9e11a155b47dbb7cc4f40c9151628\" #Key"
   ]
  }
 ],
 "metadata": {
  "kernelspec": {
   "display_name": ".venv",
   "language": "python",
   "name": "python3"
  },
  "language_info": {
   "codemirror_mode": {
    "name": "ipython",
    "version": 3
   },
   "file_extension": ".py",
   "mimetype": "text/x-python",
   "name": "python",
   "nbconvert_exporter": "python",
   "pygments_lexer": "ipython3",
   "version": "3.11.4"
  }
 },
 "nbformat": 4,
 "nbformat_minor": 2
}
