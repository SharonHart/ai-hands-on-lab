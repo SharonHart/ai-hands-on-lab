{
 "cells": [
  {
   "cell_type": "code",
   "execution_count": 5,
   "metadata": {},
   "outputs": [
    {
     "name": "stderr",
     "output_type": "stream",
     "text": [
      "c:\\Projects\\Workshop2024\\.venv\\Lib\\site-packages\\tqdm\\auto.py:21: TqdmWarning: IProgress not found. Please update jupyter and ipywidgets. See https://ipywidgets.readthedocs.io/en/stable/user_install.html\n",
      "  from .autonotebook import tqdm as notebook_tqdm\n",
      "Downloading readme: 100%|██████████| 9.06k/9.06k [00:00<00:00, 9.07MB/s]\n",
      "Downloading data: 100%|██████████| 496k/496k [00:00<00:00, 2.43MB/s]\n",
      "Downloading data: 100%|██████████| 58.2k/58.2k [00:00<00:00, 440kB/s]\n",
      "Downloading data: 100%|██████████| 55.5k/55.5k [00:00<00:00, 388kB/s]\n",
      "Generating train split: 100%|██████████| 4957/4957 [00:00<00:00, 447016.08 examples/s]\n",
      "Generating validation split: 100%|██████████| 500/500 [00:00<00:00, 81379.59 examples/s]\n",
      "Generating test split: 100%|██████████| 500/500 [00:00<00:00, 124964.37 examples/s]\n"
     ]
    }
   ],
   "source": [
    "from datasets import load_dataset\n",
    "\n",
    "dataset = load_dataset(\"openbookqa\")"
   ]
  },
  {
   "cell_type": "code",
   "execution_count": 4,
   "metadata": {},
   "outputs": [
    {
     "name": "stdout",
     "output_type": "stream",
     "text": [
      "Collecting datasets\n",
      "  Downloading datasets-2.16.1-py3-none-any.whl.metadata (20 kB)\n",
      "Requirement already satisfied: filelock in c:\\projects\\workshop2024\\.venv\\lib\\site-packages (from datasets) (3.13.1)\n",
      "Requirement already satisfied: numpy>=1.17 in c:\\projects\\workshop2024\\.venv\\lib\\site-packages (from datasets) (1.26.3)\n",
      "Collecting pyarrow>=8.0.0 (from datasets)\n",
      "  Downloading pyarrow-15.0.0-cp311-cp311-win_amd64.whl.metadata (3.1 kB)\n",
      "Collecting pyarrow-hotfix (from datasets)\n",
      "  Downloading pyarrow_hotfix-0.6-py3-none-any.whl.metadata (3.6 kB)\n",
      "Collecting dill<0.3.8,>=0.3.0 (from datasets)\n",
      "  Downloading dill-0.3.7-py3-none-any.whl.metadata (9.9 kB)\n",
      "Collecting pandas (from datasets)\n",
      "  Downloading pandas-2.2.0-cp311-cp311-win_amd64.whl.metadata (19 kB)\n",
      "Requirement already satisfied: requests>=2.19.0 in c:\\projects\\workshop2024\\.venv\\lib\\site-packages (from datasets) (2.31.0)\n",
      "Requirement already satisfied: tqdm>=4.62.1 in c:\\projects\\workshop2024\\.venv\\lib\\site-packages (from datasets) (4.66.1)\n",
      "Collecting xxhash (from datasets)\n",
      "  Downloading xxhash-3.4.1-cp311-cp311-win_amd64.whl.metadata (12 kB)\n",
      "Collecting multiprocess (from datasets)\n",
      "  Downloading multiprocess-0.70.16-py311-none-any.whl.metadata (7.2 kB)\n",
      "Collecting fsspec<=2023.10.0,>=2023.1.0 (from fsspec[http]<=2023.10.0,>=2023.1.0->datasets)\n",
      "  Downloading fsspec-2023.10.0-py3-none-any.whl.metadata (6.8 kB)\n",
      "Requirement already satisfied: aiohttp in c:\\projects\\workshop2024\\.venv\\lib\\site-packages (from datasets) (3.9.3)\n",
      "Requirement already satisfied: huggingface-hub>=0.19.4 in c:\\projects\\workshop2024\\.venv\\lib\\site-packages (from datasets) (0.20.3)\n",
      "Requirement already satisfied: packaging in c:\\projects\\workshop2024\\.venv\\lib\\site-packages (from datasets) (23.2)\n",
      "Requirement already satisfied: pyyaml>=5.1 in c:\\projects\\workshop2024\\.venv\\lib\\site-packages (from datasets) (6.0.1)\n",
      "Requirement already satisfied: aiosignal>=1.1.2 in c:\\projects\\workshop2024\\.venv\\lib\\site-packages (from aiohttp->datasets) (1.3.1)\n",
      "Requirement already satisfied: attrs>=17.3.0 in c:\\projects\\workshop2024\\.venv\\lib\\site-packages (from aiohttp->datasets) (23.2.0)\n",
      "Requirement already satisfied: frozenlist>=1.1.1 in c:\\projects\\workshop2024\\.venv\\lib\\site-packages (from aiohttp->datasets) (1.4.1)\n",
      "Requirement already satisfied: multidict<7.0,>=4.5 in c:\\projects\\workshop2024\\.venv\\lib\\site-packages (from aiohttp->datasets) (6.0.4)\n",
      "Requirement already satisfied: yarl<2.0,>=1.0 in c:\\projects\\workshop2024\\.venv\\lib\\site-packages (from aiohttp->datasets) (1.9.4)\n",
      "Requirement already satisfied: typing-extensions>=3.7.4.3 in c:\\projects\\workshop2024\\.venv\\lib\\site-packages (from huggingface-hub>=0.19.4->datasets) (4.9.0)\n",
      "Requirement already satisfied: charset-normalizer<4,>=2 in c:\\projects\\workshop2024\\.venv\\lib\\site-packages (from requests>=2.19.0->datasets) (3.3.2)\n",
      "Requirement already satisfied: idna<4,>=2.5 in c:\\projects\\workshop2024\\.venv\\lib\\site-packages (from requests>=2.19.0->datasets) (3.6)\n",
      "Requirement already satisfied: urllib3<3,>=1.21.1 in c:\\projects\\workshop2024\\.venv\\lib\\site-packages (from requests>=2.19.0->datasets) (2.1.0)\n",
      "Requirement already satisfied: certifi>=2017.4.17 in c:\\projects\\workshop2024\\.venv\\lib\\site-packages (from requests>=2.19.0->datasets) (2023.11.17)\n",
      "Requirement already satisfied: colorama in c:\\projects\\workshop2024\\.venv\\lib\\site-packages (from tqdm>=4.62.1->datasets) (0.4.6)\n",
      "INFO: pip is looking at multiple versions of multiprocess to determine which version is compatible with other requirements. This could take a while.\n",
      "Collecting multiprocess (from datasets)\n",
      "  Downloading multiprocess-0.70.15-py311-none-any.whl.metadata (7.2 kB)\n",
      "Requirement already satisfied: python-dateutil>=2.8.2 in c:\\projects\\workshop2024\\.venv\\lib\\site-packages (from pandas->datasets) (2.8.2)\n",
      "Collecting pytz>=2020.1 (from pandas->datasets)\n",
      "  Downloading pytz-2023.4-py2.py3-none-any.whl.metadata (22 kB)\n",
      "Collecting tzdata>=2022.7 (from pandas->datasets)\n",
      "  Using cached tzdata-2023.4-py2.py3-none-any.whl.metadata (1.4 kB)\n",
      "Requirement already satisfied: six>=1.5 in c:\\projects\\workshop2024\\.venv\\lib\\site-packages (from python-dateutil>=2.8.2->pandas->datasets) (1.16.0)\n",
      "Downloading datasets-2.16.1-py3-none-any.whl (507 kB)\n",
      "   ---------------------------------------- 0.0/507.1 kB ? eta -:--:--\n",
      "   --------------------------------------  501.8/507.1 kB 15.4 MB/s eta 0:00:01\n",
      "   --------------------------------------- 507.1/507.1 kB 10.6 MB/s eta 0:00:00\n",
      "Downloading dill-0.3.7-py3-none-any.whl (115 kB)\n",
      "   ---------------------------------------- 0.0/115.3 kB ? eta -:--:--\n",
      "   ---------------------------------------- 115.3/115.3 kB 7.0 MB/s eta 0:00:00\n",
      "Downloading fsspec-2023.10.0-py3-none-any.whl (166 kB)\n",
      "   ---------------------------------------- 0.0/166.4 kB ? eta -:--:--\n",
      "   --------------------------------------- 166.4/166.4 kB 10.4 MB/s eta 0:00:00\n",
      "Downloading pyarrow-15.0.0-cp311-cp311-win_amd64.whl (24.8 MB)\n",
      "   ---------------------------------------- 0.0/24.8 MB ? eta -:--:--\n",
      "   - -------------------------------------- 1.0/24.8 MB 22.0 MB/s eta 0:00:02\n",
      "   --- ------------------------------------ 2.3/24.8 MB 24.0 MB/s eta 0:00:01\n",
      "   ----- ---------------------------------- 3.5/24.8 MB 24.8 MB/s eta 0:00:01\n",
      "   ------- -------------------------------- 4.8/24.8 MB 25.8 MB/s eta 0:00:01\n",
      "   --------- ------------------------------ 6.0/24.8 MB 27.5 MB/s eta 0:00:01\n",
      "   ----------- ---------------------------- 7.3/24.8 MB 27.6 MB/s eta 0:00:01\n",
      "   ------------- -------------------------- 8.6/24.8 MB 27.5 MB/s eta 0:00:01\n",
      "   --------------- ------------------------ 9.9/24.8 MB 27.4 MB/s eta 0:00:01\n",
      "   ----------------- ---------------------- 11.0/24.8 MB 27.3 MB/s eta 0:00:01\n",
      "   ------------------- -------------------- 12.4/24.8 MB 27.3 MB/s eta 0:00:01\n",
      "   --------------------- ------------------ 13.4/24.8 MB 28.5 MB/s eta 0:00:01\n",
      "   ----------------------- ---------------- 14.9/24.8 MB 27.3 MB/s eta 0:00:01\n",
      "   ------------------------- -------------- 15.9/24.8 MB 27.3 MB/s eta 0:00:01\n",
      "   --------------------------- ------------ 17.0/24.8 MB 27.3 MB/s eta 0:00:01\n",
      "   ----------------------------- ---------- 18.3/24.8 MB 26.2 MB/s eta 0:00:01\n",
      "   ------------------------------- -------- 19.3/24.8 MB 26.2 MB/s eta 0:00:01\n",
      "   -------------------------------- ------- 20.3/24.8 MB 26.2 MB/s eta 0:00:01\n",
      "   ---------------------------------- ----- 21.7/24.8 MB 25.2 MB/s eta 0:00:01\n",
      "   ------------------------------------ --- 22.5/24.8 MB 25.2 MB/s eta 0:00:01\n",
      "   ------------------------------------- -- 23.3/24.8 MB 22.6 MB/s eta 0:00:01\n",
      "   ---------------------------------------  24.6/24.8 MB 23.4 MB/s eta 0:00:01\n",
      "   ---------------------------------------  24.8/24.8 MB 23.4 MB/s eta 0:00:01\n",
      "   ---------------------------------------- 24.8/24.8 MB 20.4 MB/s eta 0:00:00\n",
      "Downloading multiprocess-0.70.15-py311-none-any.whl (135 kB)\n",
      "   ---------------------------------------- 0.0/135.4 kB ? eta -:--:--\n",
      "   ---------------------------------------- 135.4/135.4 kB ? eta 0:00:00\n",
      "Downloading pandas-2.2.0-cp311-cp311-win_amd64.whl (11.6 MB)\n",
      "   ---------------------------------------- 0.0/11.6 MB ? eta -:--:--\n",
      "   ---- ----------------------------------- 1.3/11.6 MB 27.9 MB/s eta 0:00:01\n",
      "   --------- ------------------------------ 2.7/11.6 MB 29.3 MB/s eta 0:00:01\n",
      "   ------------- -------------------------- 4.0/11.6 MB 28.7 MB/s eta 0:00:01\n",
      "   ----------------- ---------------------- 5.1/11.6 MB 27.4 MB/s eta 0:00:01\n",
      "   --------------------- ------------------ 6.4/11.6 MB 29.1 MB/s eta 0:00:01\n",
      "   ------------------------- -------------- 7.5/11.6 MB 28.3 MB/s eta 0:00:01\n",
      "   ---------------------------- ----------- 8.2/11.6 MB 26.4 MB/s eta 0:00:01\n",
      "   -------------------------------- ------- 9.3/11.6 MB 25.9 MB/s eta 0:00:01\n",
      "   ----------------------------------- ---- 10.3/11.6 MB 25.2 MB/s eta 0:00:01\n",
      "   ---------------------------------------  11.6/11.6 MB 25.2 MB/s eta 0:00:01\n",
      "   ---------------------------------------- 11.6/11.6 MB 23.4 MB/s eta 0:00:00\n",
      "Downloading pyarrow_hotfix-0.6-py3-none-any.whl (7.9 kB)\n",
      "Downloading xxhash-3.4.1-cp311-cp311-win_amd64.whl (29 kB)\n",
      "Downloading pytz-2023.4-py2.py3-none-any.whl (506 kB)\n",
      "   ---------------------------------------- 0.0/506.5 kB ? eta -:--:--\n",
      "   --------------------------------------- 506.5/506.5 kB 33.1 MB/s eta 0:00:00\n",
      "Using cached tzdata-2023.4-py2.py3-none-any.whl (346 kB)\n",
      "Installing collected packages: pytz, xxhash, tzdata, pyarrow-hotfix, pyarrow, fsspec, dill, pandas, multiprocess, datasets\n",
      "  Attempting uninstall: fsspec\n",
      "    Found existing installation: fsspec 2023.12.2\n",
      "    Uninstalling fsspec-2023.12.2:\n",
      "      Successfully uninstalled fsspec-2023.12.2\n",
      "Successfully installed datasets-2.16.1 dill-0.3.7 fsspec-2023.10.0 multiprocess-0.70.15 pandas-2.2.0 pyarrow-15.0.0 pyarrow-hotfix-0.6 pytz-2023.4 tzdata-2023.4 xxhash-3.4.1\n"
     ]
    }
   ],
   "source": [
    "!python -m pip install datasets"
   ]
  },
  {
   "cell_type": "code",
   "execution_count": null,
   "metadata": {},
   "outputs": [],
   "source": [
    "from datasets import load_dataset\n",
    "\n",
    "dataset = load_dataset(\"openbookqa\")"
   ]
  }
 ],
 "metadata": {
  "kernelspec": {
   "display_name": ".venv",
   "language": "python",
   "name": "python3"
  },
  "language_info": {
   "codemirror_mode": {
    "name": "ipython",
    "version": 3
   },
   "file_extension": ".py",
   "mimetype": "text/x-python",
   "name": "python",
   "nbconvert_exporter": "python",
   "pygments_lexer": "ipython3",
   "version": "3.11.4"
  }
 },
 "nbformat": 4,
 "nbformat_minor": 2
}
