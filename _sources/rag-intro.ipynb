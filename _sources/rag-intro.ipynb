{
 "cells": [
  {
   "cell_type": "markdown",
   "metadata": {},
   "source": [
    "# Retrieval Augmented Generation\n",
    "\n",
    "```{seealso}\n",
    "If you are new to copilot and RAG concepts, consider going through these resources after the workshop:\n",
    "- Watch [Vector search and state of the art retrieval for Generative AI apps.](https://ignite.microsoft.com/en-US/sessions/18618ca9-0e4d-4f9d-9a28-0bc3ef5cf54e?source=sessions)\n",
    "- Read [Retrieval Augmented Generation (RAG) in Azure AI Search](https://learn.microsoft.com/en-us/azure/search/retrieval-augmented-generation-overview)\n",
    "```\n",
    "\n",
    "[Retrieval Augmentation Generation (RAG)](https://learn.microsoft.com/en-us/azure/search/retrieval-augmented-generation-overview) is an _architecture_ that augments the capabilities of a Large Language Model (LLM) by adding an _information retrieval system_ that provides grounding data.\n",
    "\n",
    "```{note}\n",
    "RAG is not the only solution for incorporating domain knowledge, as illustrated below:\n",
    "\n",
    "![domain-knowledge](domain-knowledge2.png)\n",
    "\n",
    "```\n",
    "\n",
    "#### RAG Architecture\n",
    "\n",
    "![RAG_pattern](rag-pattern.png)\n",
    "\n",
    "#### Information retrieval system\n",
    "\n",
    "Why is the information retrieval system important? Because it gives you control over the knowledge that the LLM is using to formulate a response. That means that you can constrain the LLM to your _own content_ sources from _vectorized_ documents, images, and other data formats.\n",
    "\n",
    "#### Azure AI Search\n",
    "\n",
    "[Azure AI Search](https://learn.microsoft.com/en-us/azure/search/) is a proven solution for information retrieval in a RAG architecture. Architecturally, it sits between the external data stores (with un-indexed data) and your client app. The client app sends query requests to a search index and handles the response:\n",
    "\n",
    "![search_service](search-service.png)\n",
    "\n",
    "For those familiar with relational databases, you can imagine that:\n",
    "\n",
    "- A (search) index ~= A table\n",
    "  - it describes the [schema of your data](https://learn.microsoft.com/en-us/azure/search/search-what-is-an-index#schema-of-a-search-index)\n",
    "  - it consists of [`field definitions`](https://learn.microsoft.com/en-us/azure/search/search-what-is-an-index#field-definitions) described by [`field attributes`](https://learn.microsoft.com/en-us/azure/search/search-what-is-an-index#field-attributes) (searchable, filterable, sortable etc)\n",
    "- A (search) document ~= A row in your table\n",
    "\n",
    "#### Vector search in Azure AI Search - Overview\n",
    "\n",
    "Vector search is an approach in information retrieval that stores numeric representations of content for search scenarios.\n",
    "![vector_search](vector-search-architecture-diagram.png)\n",
    "\n",
    "The generally available functionality of vector support requires that you call other libraries or models for data chunking and vectorization. However, [integrated vectorization (preview)](https://learn.microsoft.com/en-us/azure/search/vector-search-integrated-vectorization) embeds these steps.\n",
    "\n",
    "[Search options](https://learn.microsoft.com/en-us/azure/ai-services/openai/concepts/use-your-data?tabs=ai-search#search-options): keyword search, semantic search, vector search, hybrid search.\n"
   ]
  }
 ],
 "metadata": {
  "language_info": {
   "name": "python"
  }
 },
 "nbformat": 4,
 "nbformat_minor": 2
}
