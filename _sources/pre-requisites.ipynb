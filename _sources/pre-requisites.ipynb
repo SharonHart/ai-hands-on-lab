{
 "cells": [
  {
   "cell_type": "code",
   "execution_count": 1,
   "metadata": {},
   "outputs": [],
   "source": [
    "from azure.identity import DefaultAzureCredential\n",
    "from azure.core.credentials import AzureKeyCredential\n",
    "import os\n",
    "\n",
    "%reload_ext dotenv\n",
    "%dotenv\n",
    "\n",
    "workspace_name = os.environ[\"workspace_name\"]\n",
    "resource_group_name= os.environ[\"resource_group_name\"]\n",
    "workspace_name= os.environ[\"workspace_name\"]\n",
    "subscription_id= os.environ[\"subscription_id\"]\n",
    "\n",
    "service_endpoint = os.environ[\"AZURE_SEARCH_SERVICE_ENDPOINT\"]\n",
    "search_index_key = os.environ[\"AZURE_SEARCH_ADMIN_KEY\"] if len(os.environ[\"AZURE_SEARCH_ADMIN_KEY\"]) > 0 else None\n",
    "\n",
    "azure_aoai_endpoint = os.environ[\"AZURE_OPENAI_ENDPOINT\"] # your endpoint should look like the following https://YOUR_RESOURCE_NAME.openai.azure.com/\n",
    "azure_openai_key = os.environ[\"AZURE_OPENAI_KEY\"] if len(os.environ[\"AZURE_OPENAI_KEY\"]) > 0 else None\n",
    "azure_openai_embedding_deployment = os.environ[\"AZURE_OPENAI_EMBEDDING_DEPLOYMENT\"] # used to be called azure_openai_embedding_deployment\n",
    "azure_openai_chat_deployment = os.environ[\"AZURE_OPENAI_CHAT_DEPLOYMENT_NAME\"]\n",
    "azure_openai_api_version = \"2023-07-01-preview\"\n",
    "azure_openai_judge = os.environ[\"AZURE_OPENAI_JUDGE_DEPLOYMENT\"]\n",
    "\n",
    "credential = AzureKeyCredential(search_index_key) or DefaultAzureCredential()\n",
    "\n",
    "path_to_evaluation_dataset = \"./output/qa/evaluation/qa_pairs_solutionops.json\"\n",
    "\n",
    "pregenerated_data_path = \"./output/pre-generated\"\n",
    "\n",
    "pregenerated_fixed_size_chunks = f\"{pregenerated_data_path}/chunking/fixed-size-chunks-engineering-mlops-180-30.json\"\n",
    "pregenerated_md_header_chunks =  f\"{pregenerated_data_path}/chunking/md-header-text-splitter-engineering-mlops.json\"\n",
    "pregenerated_semantic_chunks = f\"{pregenerated_data_path}/chunking/semantic-chunks-engineering-mlops.json\"\n",
    "\n",
    "pregenerated_fixed_size_chunks_embeddings_ada = f\"{pregenerated_data_path}/embeddings/fixed-size-chunks-180-30-engineering-mlops-ada.json\"\n",
    "pregenerated_fixed_size_chunks_embeddings_os = f\"{pregenerated_data_path}/embeddings/fixed-size-chunks-180-30-engineering-mlops-e5-small-v2.json\"\n",
    "\n",
    "pregenerated_markdown_header_chunks_embeddings_ada = f\"{pregenerated_data_path}/embeddings/md-header-text-splitter-engineering-mlops-embedded-ada.json\"\n",
    "pregenerated_semantic_chunks_embeddings_ada = f\"{pregenerated_data_path}/embeddings/semantic-chunks-engineering-mlops-embedded-ada.json\"\n",
    "pregenerated_semantic_chunks_embeddings_os = f\"{pregenerated_data_path}/embeddings/semantic-chunking-engineering-mlops-e5-small-v2.json\""
   ]
  }
 ],
 "metadata": {
  "kernelspec": {
   "display_name": ".venv",
   "language": "python",
   "name": "python3"
  },
  "language_info": {
   "codemirror_mode": {
    "name": "ipython",
    "version": 3
   },
   "file_extension": ".py",
   "mimetype": "text/x-python",
   "name": "python",
   "nbconvert_exporter": "python",
   "pygments_lexer": "ipython3",
   "version": "3.12.2"
  }
 },
 "nbformat": 4,
 "nbformat_minor": 2
}
