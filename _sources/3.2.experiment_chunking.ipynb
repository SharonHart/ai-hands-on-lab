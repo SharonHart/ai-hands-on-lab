{
 "cells": [
  {
   "cell_type": "markdown",
   "metadata": {},
   "source": [
    "# 3.2. Chunking Experiment\n",
    "\n",
    "The search solution is comprised of both **ingestion** and **retrieval**. One does not exist without the other. While other experiments are focused on data retrieval, ingestion plays equal importance in the effectiveness of the search solution. During this experiment, we will look at various chunking strategies.\n",
    "\n",
    "## Experiment Overview\n",
    "\n",
    "There are multiple methods of ingestion, depending on the type of data. For example, unstructured data such as documents or web pages can be split into chunks and embedded into vectors, while structured data such as tables or databases can be summarized or converted into natural language. In our case, since we are working with unstructured text data, we will look into two chunking strategies: fixed-size chunking and semantic chunking.\n",
    "\n",
    "```{note}\n",
    "Our goal here is not to identify which chunking strategy is the “best” in general but rather to demonstrate how the choice of chunking may have a non-trivial impact on the ultimate outcome from the RAG solution.\n",
    "```\n",
    "\n",
    "<!-- Certain aspects of data ingestion need to be experimented as part of the experimentation phase: -->\n",
    "\n",
    "<!-- # Chunking Strategy\n",
    "\n",
    "Code also https://github.com/microsoft/rag-openai/blob/438999a5470bef7946fa1c8714ed1090e1ed40c3/samples/searchEvaluation/customskills/utils/chunker/text_chunker.py\n",
    "\n",
    "There are multiple methods of ingestion, depending on the type of data. For example, unstructured data such as documents or web pages can be split into chunks and embedded into vectors, while structured data such as tables or databases can be summarized or converted into natural language. In our case, since we are working with unstructured text data, we will look into different chunking strategies.\n",
    " -->\n",
    "\n",
    "📝**Hypothesis**\n",
    "\n",
    "Exploratory hypothesis: \"Can introducing a new chunking strategy improve system's performance?\"\n",
    "\n",
    "🎯 **Evaluation Metrics**\n",
    "\n",
    "For this experiment we will look at Accuracy and Cosine Similarity to compare the performance.\n",
    "\n",
    "📊 **Data**\n",
    "\n",
    "In this experiment, the data that we would like to chunk consists of the first 200 documents from the Solution Ops Playbook.\n",
    "\n",
    "<!-- The metrics used for document retrieval evaluation. -->\n",
    "\n",
    "<!-- [Learnings fromm other engagements](https://github.com/microsoft/rag-openai/blob/main/topics/RAG_EnablingSearch.md#learnings-from-engagements-1) -->\n",
    "\n",
    "<!-- https://vectara.com/blog/grounded-generation-done-right-chunking/#:~:text=In%20the%20context%20of%20Grounded%20Generation%2C%20chunking%20is,find%20natural%20segments%20like%20complete%20sentences%20or%20paragraphs. -->\n",
    "\n",
    "<!-- https://towardsdatascience.com/how-to-chunk-text-data-a-comparative-analysis-3858c4a0997a -->\n",
    "\n",
    "<!-- https://blog.llamaindex.ai/evaluating-the-ideal-chunk-size-for-a-rag-system-using-llamaindex-6207e5d3fec5\n",
    "\n",
    "Example code: https://github.com/Azure/azure-search-vector-samples/blob/main/demo-python/code/data-chunking/textsplit-data-chunking-example.ipynb\n",
    "\n",
    "Read [Common Chunking Technique](https://learn.microsoft.com/en-us/azure/search/semantic-search-overview), [Content overlap considerations](https://learn.microsoft.com/en-us/azure/search/vector-search-how-to-chunk-documents#content-overlap-considerations), [Simple example of how to create chunks with sentences](https://learn.microsoft.com/en-us/azure/search/vector-search-how-to-chunk-documents#content-overlap-considerations)\n",
    "\n",
    "CODE: https://github.com/microsoft/rag-openai/blob/438999a5470bef7946fa1c8714ed1090e1ed40c3/samples/searchEvaluation/customskills/utils/chunker/text_chunker.py -->\n"
   ]
  },
  {
   "cell_type": "markdown",
   "metadata": {},
   "source": [
    "## Setup\n",
    "\n",
    "Import necessary libraries\n"
   ]
  },
  {
   "cell_type": "code",
   "execution_count": 38,
   "metadata": {},
   "outputs": [],
   "source": [
    "%run -i ./pre-requisites.ipynb"
   ]
  },
  {
   "cell_type": "markdown",
   "metadata": {},
   "source": [
    "Let's load our documents from Solution Ops Playbook\n"
   ]
  },
  {
   "cell_type": "code",
   "execution_count": 39,
   "metadata": {},
   "outputs": [],
   "source": [
    "# import tqdm\n",
    "import glob\n",
    "from langchain_community.document_loaders import UnstructuredFileLoader\n",
    "import os\n",
    "\n",
    "\n",
    "def load_documents_from_folder(path, totalNumberOfDocuments=200) -> list[str]:\n",
    "    print(\"Loading documents...\")\n",
    "    markdown_documents = []\n",
    "    i = 0\n",
    "    # tqdm.tqdm\n",
    "    for file in glob.glob(path, recursive=True):\n",
    "        loader = UnstructuredFileLoader(file)\n",
    "        document = loader.load()\n",
    "        markdown_documents.append(document)\n",
    "        if i == totalNumberOfDocuments:\n",
    "            print(\"Finished loading documents\")\n",
    "            return markdown_documents\n",
    "        i += 1"
   ]
  },
  {
   "cell_type": "code",
   "execution_count": 40,
   "metadata": {},
   "outputs": [
    {
     "name": "stdout",
     "output_type": "stream",
     "text": [
      "Loading documents...\n",
      "Finished loading documents\n"
     ]
    }
   ],
   "source": [
    "totalNumberOfDocuments = 200\n",
    "documents = load_documents_from_folder(\n",
    "    \"..\\data\\docs\\**\\*.md\", totalNumberOfDocuments)"
   ]
  },
  {
   "cell_type": "markdown",
   "metadata": {},
   "source": [
    "## 1. Fixed-sized chunking strategy\n",
    "\n",
    "This is one of the most basic form of splitting up text. It is the process of simply dividing the text into N-character sized chunks regardless of their content or form. This method isn't recommended for any applications - but it's a great starting point for us to understand the basics.\n",
    "\n",
    "**[Why Chunking Size Matters](https://blog.llamaindex.ai/evaluating-the-ideal-chunk-size-for-a-rag-system-using-llamaindex-6207e5d3fec5)**\n",
    "\n",
    "When processing data, splitting the source documents into chunks requires care and expertise to ensure the resulting chunks are small enough to be effective during fact retrieval but not too small so that enough context is provided during summarization. The models used to generate embedding vectors have maximum limits on the text fragments provided as input. For example, the maximum length of input text for the Azure OpenAI embedding models is **8,191** tokens. Given that each token is around 4 characters of text for common OpenAI models, this maximum limit is equivalent to around 6000 words of text. If you're using these models to generate embeddings, it's critical that the input text stays under the limit. Partitioning your content into chunks ensures that your data can be processed by the Large Language Models (LLM) used for indexing and queries.\n",
    "\n",
    "**Relevance and Granularity**: A small chunk size, like 128, yields more granular chunks. This granularity, however, presents a risk: vital information might not be among the top retrieved chunks, especially if the similarity _top_k_ setting is as restrictive as 2. Conversely, a chunk size of 512 is likely to encompass all necessary information within the top chunks, ensuring that answers to queries are readily available. To navigate this, we employ the _Faithfulness and Relevancy_ metrics. These measure the absence of ‘hallucinations’ and the ‘relevancy’ of responses based on the query and the retrieved contexts respectively.\n",
    "\n",
    "**Response Generation Time**: As the chunk_size increases, so does the volume of information directed into the LLM to generate an answer. While this can ensure a more comprehensive context, it might also slow down the system. Ensuring that the added depth doesn't compromise the system's responsiveness is crucial.\n",
    "\n",
    "In essence, determining the optimal chunk_size is about striking a balance: capturing all essential information without sacrificing speed. It's vital to undergo thorough testing with various sizes to find a configuration that suits the specific use case and dataset.\n",
    "\n",
    "- **Pros**: Easy & Simple\n",
    "- **Cons**: Very rigid and doesn't take into account the structure of your text\n",
    "\n",
    "Concept to know:\n",
    "\n",
    "- **Chunk Size** - The number of characters you would like in your chunks. 50, 100, 100,000, etc.\n",
    "- **Chunk Overlap** - The amount you would like your sequential chunks to overlap. This is to try to avoid cutting a single piece of context into multiple pieces. This will create duplicate data across chunks.\n"
   ]
  },
  {
   "cell_type": "markdown",
   "metadata": {},
   "source": [
    "Let's load LangChain's `MarkdownTextSplitter` to split the text for us\n"
   ]
  },
  {
   "cell_type": "code",
   "execution_count": 2,
   "metadata": {},
   "outputs": [],
   "source": [
    "from langchain.text_splitter import MarkdownTextSplitter"
   ]
  },
  {
   "cell_type": "markdown",
   "metadata": {},
   "source": [
    "Let's load up the text splitted. You need to specify the `chunk overlap` and `chunk size`\n"
   ]
  },
  {
   "cell_type": "code",
   "execution_count": 3,
   "metadata": {},
   "outputs": [],
   "source": [
    "chunk_size = 5\n",
    "chunk_overlap = 3\n",
    "markdown_splitter = MarkdownTextSplitter.from_tiktoken_encoder(\n",
    "    chunk_size=chunk_size, chunk_overlap=chunk_overlap)"
   ]
  },
  {
   "cell_type": "markdown",
   "metadata": {},
   "source": [
    "We can split a text via `split_text` function. Let's take a sample text:\n"
   ]
  },
  {
   "cell_type": "code",
   "execution_count": 4,
   "metadata": {},
   "outputs": [],
   "source": [
    "text = \"This is the text I would like to chunk up. It is the example text for this exercise\""
   ]
  },
  {
   "cell_type": "code",
   "execution_count": 5,
   "metadata": {},
   "outputs": [
    {
     "data": {
      "text/plain": [
       "['This is the text I',\n",
       " 'the text I would like',\n",
       " 'I would like to chunk',\n",
       " 'like to chunk up.',\n",
       " 'chunk up. It is',\n",
       " 'It is the example text',\n",
       " 'the example text for this',\n",
       " 'text for this exercise']"
      ]
     },
     "execution_count": 5,
     "metadata": {},
     "output_type": "execute_result"
    }
   ],
   "source": [
    "current_chunks_text_list = markdown_splitter.split_text(text)\n",
    "current_chunks_text_list"
   ]
  },
  {
   "cell_type": "markdown",
   "metadata": {},
   "source": [
    "### 👩‍💻 Create a function to chunk data from Solution-Ops using Fixed-Size Chunking Strategy\n"
   ]
  },
  {
   "cell_type": "code",
   "execution_count": 9,
   "metadata": {},
   "outputs": [],
   "source": [
    "import json\n",
    "\n",
    "\n",
    "def create_chunks_and_save_to_file(\n",
    "    documents, path_to_output, chunk_size=300, chunk_overlap=30\n",
    ") -> list:\n",
    "    try:\n",
    "        if os.path.exists(path_to_output):\n",
    "            print(f\"Chunks already created at: {path_to_output} \")\n",
    "            return\n",
    "\n",
    "        print(\"Creating chunks...\")\n",
    "        markdown_splitter = MarkdownTextSplitter.from_tiktoken_encoder(\n",
    "            chunk_size=chunk_size, chunk_overlap=chunk_overlap\n",
    "        )\n",
    "        lengths = {}\n",
    "        all_chunks = []\n",
    "        chunk_id = 0\n",
    "        for document in tqdm.tqdm(documents):\n",
    "            current_chunks_text_list = markdown_splitter.split_text(\n",
    "                document[0].page_content\n",
    "            )\n",
    "            for i, chunk in enumerate(\n",
    "                current_chunks_text_list\n",
    "            ):\n",
    "                source = document[0].metadata[\"source\"]\n",
    "                current_chunk_dict = {\n",
    "                    \"chunkId\": f\"chunk{chunk_id}_{i}\",\n",
    "                    \"chunkContent\": chunk,\n",
    "                    \"source\": source,\n",
    "                }\n",
    "                all_chunks.append(current_chunk_dict)\n",
    "\n",
    "            chunk_id += 1\n",
    "\n",
    "            n_chunks = len(current_chunks_text_list)\n",
    "            # lengths = {[Number of chunks]: [number of documents with that number of chunks]}\n",
    "            if n_chunks not in lengths:\n",
    "                lengths[n_chunks] = 1\n",
    "            else:\n",
    "                lengths[n_chunks] += 1\n",
    "\n",
    "        with open(path_to_output, \"w\") as f:\n",
    "            json.dump(all_chunks, f)\n",
    "        # print(f\"Chunks created: \", lengths)\n",
    "    except Exception as e:\n",
    "        print(f\"Error creating chunks: {e}\")\n",
    "    return lengths"
   ]
  },
  {
   "cell_type": "markdown",
   "metadata": {},
   "source": [
    "Create the chunks\n",
    "\n",
    "Note:\n",
    "\n",
    "- we are only chunking the first `totalNumberOfDocuments` from `..\\data\\docs\\**\\*.md`\n",
    "- `chunk_size` is the number of tokens a chunk should have\n",
    "- `chunk_overlap` is the percentage of overlap between two chunks\n"
   ]
  },
  {
   "cell_type": "code",
   "execution_count": 10,
   "metadata": {},
   "outputs": [
    {
     "name": "stdout",
     "output_type": "stream",
     "text": [
      "./output/generated/fixed-size-chunks-solution-ops-200-300-30.json\n",
      "Chunks already created at: ./output/generated/fixed-size-chunks-solution-ops-200-300-30.json \n"
     ]
    }
   ],
   "source": [
    "totalNumberOfDocuments = 200\n",
    "chunk_size = 300\n",
    "chunk_overlap = 30\n",
    "fixed_chunks_output_prefix = \"fixed-size-chunks-solution-ops\"\n",
    "\n",
    "path_to_chunks_output = f\"./output/generated/{fixed_chunks_output_prefix}-{totalNumberOfDocuments}-{chunk_size}-{chunk_overlap}.json\"\n",
    "print(path_to_chunks_output)\n",
    "\n",
    "\n",
    "chunks = create_chunks_and_save_to_file(\n",
    "    documents, path_to_chunks_output, chunk_size=chunk_size, chunk_overlap=chunk_overlap)"
   ]
  },
  {
   "cell_type": "markdown",
   "metadata": {},
   "source": [
    "<!-- In this workshop, to separate our experiments, we will take the _Full Reindex_ strategy by creating a new index -->\n"
   ]
  },
  {
   "cell_type": "code",
   "execution_count": 12,
   "metadata": {},
   "outputs": [
    {
     "name": "stdout",
     "output_type": "stream",
     "text": [
      "Index: 'solution-ops-fixed-chunking-300-30' created or updated\n",
      "Embeddings were already created for chunked data at: ./output/generated/fixed-size-chunks-solution-ops-200-300-30.json \n",
      "Uploaded 991 documents to Index: solution-ops-fixed-chunking-300-30\n"
     ]
    }
   ],
   "source": [
    "# %run -i ./helpers/search.ipynb\n",
    "\n",
    "# # 1. Create the new index\n",
    "# fixed_chunking_index_name = \"solution-ops-fixed-chunking-300-30\"\n",
    "# create_index(fixed_chunking_index_name)\n",
    "\n",
    "# # 2. Generate embeddings for the new chunks\n",
    "# generated_embeddings_path = f\"./output/generated/{fixed_chunks_output_prefix}-embedded-{totalNumberOfDocuments}-{chunk_size}-{chunk_overlap}.json\"\n",
    "# generate_embeddings_for_chunks_and_save_to_file(path_to_chunks_file=path_to_chunks_output, path_to_output=generated_embeddings_path)\n",
    "\n",
    "# # 3. Upload the embeddings to the new index\n",
    "# upload_data(file_path=generated_embeddings_path, search_index_name=fixed_chunking_index_name)"
   ]
  },
  {
   "cell_type": "markdown",
   "metadata": {},
   "source": [
    "## 2. [Semantic Chunking](https://python.langchain.com/docs/modules/data_connection/document_transformers/semantic-chunker)\n",
    "\n",
    "Azure: https://learn.microsoft.com/en-us/azure/ai-services/document-intelligence/concept-retrieval-augumented-generation?view=doc-intel-4.0.0#semantic-chunking)\n"
   ]
  },
  {
   "cell_type": "markdown",
   "metadata": {},
   "source": [
    "In the previous approach, we chose a constant value for chunk size, in a random way. We did not leverage the actual content of the document, the structure, etc. In this section, we will look at [Semantic Chunking](https://python.langchain.com/docs/modules/data_connection/document_transformers/semantic-chunker) from LangChain. This approach splits the text based on semantic similarity.\n",
    "\n",
    "For insights on what it is doing, you can have a look at [Level 4. Semantic Splitting](https://github.com/FullStackRetrieval-com/RetrievalTutorials/blob/main/5_Levels_Of_Text_Splitting.ipynb).\n"
   ]
  },
  {
   "cell_type": "code",
   "execution_count": 13,
   "metadata": {},
   "outputs": [
    {
     "name": "stdout",
     "output_type": "stream",
     "text": [
      "This group is either determined by a specific time interval or a certain size limit. Stream ingestion deals with continuous, unbounded datasets. That said, most of the current stream ingestion approaches use mini-batches to ingest data as it reduces the number of I/O operations. ## Batch Ingestion\n",
      "\n",
      "Traditionally data ingestion has been done in batches due to the limitations of the legacy systems. It still remains a popular way to ingest data for the simplicity of its implementation. Almost every ETL tool supports batch ingestion. ### Batch Ingestion Architectural Patterns\n",
      "\n",
      "#### Pull\n",
      "\n",
      "Most batch ingestion data pipelines will connect to a source system and pull data from it at regular interval. There are two common patterns for a batch job to load data from a source system, full load and delta load. - _Full load_: The job will load all the records from the source table. - _Delta load_: The job will load only the new records added since the last execution of the job. For this approach to work, the source table needs to have a watermark column. ##### Azure Blob Storage Change Feed\n",
      "\n",
      "When the data source is Azure Blob Storage, the [Change Feed feature](https://learn.microsoft.com/azure/storage/blobs/storage-blob-change-feed) implements batch pull ingestion for either the full load or delta load scenarios. The Change Feed provides transactional logs of all the changes that occur to the blobs and the blob metadata inside of a storage account, in an efficient and scalable manner. {% if extra.ring == 'internal' %}\n",
      "The following repo provides a generic example for how to use the blob storage change feed in a batch ingestion process. [Azure Blob Storage Change Feed - Example](https://github.com/commercial-software-engineering/blob-storage-change-feed)\n",
      "{% endif %}\n",
      "\n",
      "#### Push\n",
      "\n",
      "Though pull-based model for data ingestion is the most fault tolerant model, its biggest drawback is lack of real-time information. The push-based model aims to solve the problem as the source system sends data to the target as soon as the data is generated.\n"
     ]
    }
   ],
   "source": [
    "%run -i ./pre-requisites.ipynb\n",
    "from langchain_openai.embeddings import AzureOpenAIEmbeddings\n",
    "from langchain_experimental.text_splitter import SemanticChunker\n",
    "\n",
    "embeddings = AzureOpenAIEmbeddings(\n",
    "    azure_deployment=\"embeddings\",\n",
    "    openai_api_version=\"2023-05-15\",\n",
    ")\n",
    "\n",
    "with open(\"../data/docs/code-with-dataops/capabilities/analytical-systems/data-ingestion/batch-stream-ingestion/index.md\") as f:\n",
    "    state_of_the_union = f.read()\n",
    "\n",
    "text_splitter = SemanticChunker(embeddings)\n",
    "\n",
    "docs = text_splitter.create_documents([state_of_the_union])\n",
    "print(docs[1].page_content)"
   ]
  },
  {
   "cell_type": "markdown",
   "metadata": {},
   "source": [
    "### 👩‍💻 Create a function to chunk data from Solution-Ops using Semantic Chunker\n"
   ]
  },
  {
   "cell_type": "code",
   "execution_count": 14,
   "metadata": {},
   "outputs": [],
   "source": [
    "import json\n",
    "\n",
    "\n",
    "def create_semantic_chunks_and_save_to_file(documents, path_to_output) -> list:\n",
    "    try:\n",
    "        if os.path.exists(path_to_output):\n",
    "            print(f\"Chunks already created at: {path_to_output} \")\n",
    "            return\n",
    "        lengths = {}\n",
    "        all_chunks = []\n",
    "        chunk_id = 0\n",
    "        # tqdm.tqdm(\n",
    "        embeddings = AzureOpenAIEmbeddings(\n",
    "            azure_deployment=azure_openai_embedding_deployment,\n",
    "            openai_api_version=\"2023-05-15\",\n",
    "        )\n",
    "\n",
    "        text_splitter = SemanticChunker(embeddings)\n",
    "        for document in documents:\n",
    "            content = document[0].page_content\n",
    "            source = document[0].metadata[\"source\"]\n",
    "\n",
    "            splitted_documents = text_splitter.create_documents(\n",
    "                [content])\n",
    "            for i, splitted_content in enumerate(splitted_documents):\n",
    "                current_chunk_dict = {\n",
    "                    \"chunkId\": f\"chunk{chunk_id}_{i}\",\n",
    "                    \"chunkContent\": splitted_content.page_content,\n",
    "                    \"source\": source,\n",
    "                }\n",
    "                chunk_id += 1\n",
    "                all_chunks.append(current_chunk_dict)\n",
    "        with open(path_to_output, \"w\") as f:\n",
    "            json.dump(all_chunks, f)\n",
    "    except Exception as e:\n",
    "        print(f\"Error creating chunks: {e}\")\n",
    "    return all_chunks"
   ]
  },
  {
   "cell_type": "code",
   "execution_count": 15,
   "metadata": {},
   "outputs": [
    {
     "name": "stdout",
     "output_type": "stream",
     "text": [
      "./output/generated/semantic-chunks-solution-ops-200.json\n",
      "Chunks already created at: ./output/generated/semantic-chunks-solution-ops-200.json \n"
     ]
    }
   ],
   "source": [
    "totalNumberOfDocuments = 200\n",
    "semantic_chunks_output_prefix = \"semantic-chunks-solution-ops\"\n",
    "path_to_semantic_chunks_output = f\"./output/generated/{semantic_chunks_output_prefix}-{totalNumberOfDocuments}.json\"\n",
    "print(path_to_semantic_chunks_output)\n",
    "\n",
    "chunks = create_semantic_chunks_and_save_to_file(\n",
    "    documents, path_to_semantic_chunks_output)"
   ]
  },
  {
   "cell_type": "markdown",
   "metadata": {},
   "source": [
    "<!-- # Use the built-in skillset: [SplitSkill](https://learn.microsoft.com/en-us/azure/search/cognitive-search-skill-textsplit) -->\n"
   ]
  },
  {
   "cell_type": "markdown",
   "metadata": {},
   "source": [
    "## 📈 Evaluation\n",
    "\n",
    "In this workshop, to separate our experiments, we will take the **Full Reindex** strategy and we will create a new index per chunking strategy.\n",
    "\n",
    "Therefore, for each chunking strategy we will:\n",
    "\n",
    "1. Create a new index. Note: make sure to give a relevant name.\n",
    "2. Embed the chunks that you have previously created.\n",
    "3. Populate the index with chunks.\n",
    "\n",
    "```{note}\n",
    "You can reuse available functions from [./helpers/search.ipynb](./helpers/search.ipynb), such as: *create_index* and *upload_data*. By running the next cell, all the functions from search.ipynb will become available.\n",
    "```\n"
   ]
  },
  {
   "cell_type": "code",
   "execution_count": 37,
   "metadata": {},
   "outputs": [],
   "source": [
    "%%capture --no-display\n",
    "%run -i ./helpers/search.ipynb"
   ]
  },
  {
   "cell_type": "markdown",
   "metadata": {},
   "source": [
    "Sample code for creating a new index and uploading the data:\n"
   ]
  },
  {
   "cell_type": "code",
   "execution_count": null,
   "metadata": {},
   "outputs": [],
   "source": [
    "%run -i ./helpers/search.ipynb\n",
    "\n",
    "# 1. Create the new index\n",
    "fixed_chunking_index_name = \"solution-ops-fixed-chunking-300-30\"\n",
    "create_index(fixed_chunking_index_name)\n",
    "\n",
    "# 2. Generate embeddings for the new chunks\n",
    "generated_embeddings_path = f\"./output/generated/{fixed_chunks_output_prefix}-embedded-{totalNumberOfDocuments}-{chunk_size}-{chunk_overlap}.json\"\n",
    "generate_embeddings_for_chunks_and_save_to_file(path_to_chunks_file=path_to_chunks_output, path_to_output=generated_embeddings_path)\n",
    "\n",
    "# 3. Upload the embeddings to the new index\n",
    "upload_data(file_path=generated_embeddings_path, search_index_name=fixed_chunking_index_name)"
   ]
  },
  {
   "cell_type": "code",
   "execution_count": null,
   "metadata": {},
   "outputs": [],
   "source": [
    "%run -i ./helpers/search.ipynb\n",
    "\n",
    "# 1. Create the new index\n",
    "semantic_chunking_index_name = \"solution-ops-semantic-chunking-200\"\n",
    "create_index(semantic_chunking_index_name)\n",
    "\n",
    "# 2. Generate embeddings for the new chunks\n",
    "generated_embeddings_path = f\"./output/generated/{semantic_chunks_output_prefix}-embedded-{totalNumberOfDocuments}.json\"\n",
    "generate_embeddings_for_chunks_and_save_to_file(path_to_chunks_file=path_to_semantic_chunks_output, path_to_output=generated_embeddings_path)\n",
    "\n",
    "# 3. Upload the embeddings to the new index\n",
    "upload_data(file_path=generated_embeddings_path, search_index_name=semantic_chunking_index_name)"
   ]
  },
  {
   "cell_type": "markdown",
   "metadata": {},
   "source": [
    "### Evaluation Dataset\n",
    "\n",
    "Note: The evaluation dataset can be found at [solution-ops-200-qa.json](./output/qa/evaluation/solution-ops-200-qa.json). The format is:\n",
    "\n",
    "```json\n",
    "\"user_prompt\": \"\", # The question\n",
    "\"output_prompt\": \"\", # The answer\n",
    "\"context\": \"\", # The relevant piece of information from a document\n",
    "\"chunk_id\": \"\", # The ID of the chunk\n",
    "\"source\": \"\" # The path to the document, i.e. \"..\\\\data\\\\docs\\\\code-with-dataops\\\\index.md\"\n",
    "```\n"
   ]
  },
  {
   "cell_type": "markdown",
   "metadata": {},
   "source": [
    "Let us configure the path to evaluation dataset and reload environment variables\n"
   ]
  },
  {
   "cell_type": "code",
   "execution_count": 21,
   "metadata": {},
   "outputs": [],
   "source": [
    "path_to_evaulation_dataset = \"./output/qa/evaluation/solution-ops-200-qa.json\"\n",
    "%run -i ./pre-requisites.ipynb"
   ]
  },
  {
   "cell_type": "markdown",
   "metadata": {},
   "source": [
    "### Evaluation Metrics\n",
    "\n",
    "<!-- `Retrieval_evaluation` function goes through our evaluation dataset and verifies for each question if the retrieved documents include the expected document. -->\n"
   ]
  },
  {
   "cell_type": "code",
   "execution_count": 41,
   "metadata": {},
   "outputs": [],
   "source": [
    "%run -i ./helpers/search.ipynb\n",
    "\n",
    "from statistics import mean, median\n",
    "import os\n",
    "import numpy as np\n",
    "from numpy.linalg import norm"
   ]
  },
  {
   "cell_type": "markdown",
   "metadata": {},
   "source": [
    "Let's define the evaluation metrics:\n",
    "- Cosine similarity: will calculate the similarity between the first retrieved chunk and the expected chunk. We will look at the average and mean cosine similarity across our evaluation dataset.\n",
    "- Accuracy: we will calculate how many times the system returned the expected document, and by document we mean the actual path to the markdown file."
   ]
  },
  {
   "cell_type": "code",
   "execution_count": 34,
   "metadata": {},
   "outputs": [],
   "source": [
    "def calculate_cosine_similarity(expected_document_vector, retrieved_document_vector):\n",
    "    cosine_sim = np.dot(expected_document_vector, retrieved_document_vector) / \\\n",
    "        (norm(expected_document_vector)*norm(retrieved_document_vector))\n",
    "    return float(cosine_sim)"
   ]
  },
  {
   "cell_type": "code",
   "execution_count": 28,
   "metadata": {},
   "outputs": [],
   "source": [
    "def calculate_metrics(evaluation_data_path, search_index_name, embedding_function=oai_query_embedding):\n",
    "    \"\"\" Evaluate the retrieval performance of the search index using the evaluation data set.\n",
    "    Args:\n",
    "    evaluation_data_path (str): The path to the evaluation data set.\n",
    "    embedding_function (function): The function to use for embedding the question.\n",
    "    search_index_name (str): The name of the search index to use for retrieval.\n",
    "\n",
    "    Returns:\n",
    "    list: The cosine similarities between the expected documents and the top retrieved documents.\n",
    "    \"\"\"\n",
    "    if not os.path.exists(evaluation_data_path):\n",
    "        print(\n",
    "            f\"The path to the evaluation data set {evaluation_data_path} does not exist. Please check the path and try again.\"\n",
    "        )\n",
    "        return\n",
    "    nr_correctly_retrieved_documents = 0\n",
    "    nr_qa = 0\n",
    "    cosine_similarities = []\n",
    "\n",
    "    with open(evaluation_data_path, \"r\", encoding=\"utf-8\") as file:\n",
    "        evaluation_data = json.load(file)\n",
    "        for data in evaluation_data:\n",
    "            user_prompt = data[\"user_prompt\"]\n",
    "            expected_document = data[\"source\"]\n",
    "            expected_document_vector = embedding_function(data[\"context\"])\n",
    "\n",
    "            # 1. Search in the index\n",
    "            search_response = search_documents(\n",
    "                search_index_name=search_index_name,\n",
    "                input=user_prompt,\n",
    "                embedding_function=embedding_function,\n",
    "            )\n",
    "\n",
    "            retrieved_documents = [response[\"source\"]\n",
    "                                   for response in search_response]\n",
    "            top_retrieved_document = search_response[0][\"chunkContentVector\"]\n",
    "\n",
    "            # 2. Calculate cosine similarity between the expected document and the top retrieved document\n",
    "            cosine_similarity = calculate_cosine_similarity(\n",
    "                expected_document_vector, top_retrieved_document)\n",
    "            cosine_similarities.append(cosine_similarity)\n",
    "\n",
    "            # 3. If the expected document is part of the retrieved documents,\n",
    "            # we will consider it correctly retrieved\n",
    "            if expected_document in retrieved_documents:\n",
    "                nr_correctly_retrieved_documents += 1\n",
    "\n",
    "            nr_qa += 1\n",
    "    accuracy = (nr_correctly_retrieved_documents / nr_qa)*100\n",
    "    print(\n",
    "        f\"Accuracy: {accuracy}% of the documents were correctly retrieved from Index {index_name}.\")\n",
    "\n",
    "    return cosine_similarities"
   ]
  },
  {
   "cell_type": "markdown",
   "metadata": {},
   "source": [
    "### 👩‍💻 1. Evaluate the fixed-size chunking strategy\n"
   ]
  },
  {
   "cell_type": "code",
   "execution_count": 35,
   "metadata": {},
   "outputs": [
    {
     "name": "stdout",
     "output_type": "stream",
     "text": [
      "Accuracy: 33.33333333333333% of the documents were correctly retrieved from Index solution-ops-fixed-chunking-300-30.\n",
      "Avg score:0.8343853292433316\n",
      "Median score: 0.8167772607332786\n"
     ]
    }
   ],
   "source": [
    "# TODO: Replace this with the name of the index you want to evaluate\n",
    "index_name = fixed_chunking_index_name\n",
    "\n",
    "cosine_similarities = calculate_metrics(\n",
    "    evaluation_data_path=path_to_evaulation_dataset,\n",
    "    search_index_name=index_name,\n",
    ")\n",
    "\n",
    "avg_score = mean(cosine_similarities)\n",
    "print(f\"Avg score:{avg_score}\")\n",
    "median_score = median(cosine_similarities)\n",
    "print(f\"Median score: {median_score}\")"
   ]
  },
  {
   "cell_type": "markdown",
   "metadata": {},
   "source": [
    "### 👩‍💻 2. Evaluate the semantic chunking strategy\n"
   ]
  },
  {
   "cell_type": "code",
   "execution_count": 36,
   "metadata": {},
   "outputs": [
    {
     "name": "stdout",
     "output_type": "stream",
     "text": [
      "Accuracy: 66.66666666666666% of the documents were correctly retrieved from Index solution-ops-semantic-chunking-200.\n",
      "Avg score:0.8404864049201174\n",
      "Median score: 0.8171080900560082\n"
     ]
    }
   ],
   "source": [
    "# TODO: Replace this with the name of the index you want to evaluate\n",
    "index_name = semantic_chunking_index_name\n",
    "\n",
    "cosine_similarities = calculate_metrics(\n",
    "    evaluation_data_path=path_to_evaulation_dataset,\n",
    "    search_index_name=index_name,\n",
    ")\n",
    "\n",
    "avg_score = mean(cosine_similarities)\n",
    "print(f\"Avg score:{avg_score}\")\n",
    "median_score = median(cosine_similarities)\n",
    "print(f\"Median score: {median_score}\")"
   ]
  },
  {
   "cell_type": "markdown",
   "metadata": {},
   "source": [
    "## 💡 Conclusions\n"
   ]
  }
 ],
 "metadata": {
  "kernelspec": {
   "display_name": ".venv",
   "language": "python",
   "name": "python3"
  },
  "language_info": {
   "codemirror_mode": {
    "name": "ipython",
    "version": 3
   },
   "file_extension": ".py",
   "mimetype": "text/x-python",
   "name": "python",
   "nbconvert_exporter": "python",
   "pygments_lexer": "ipython3",
   "version": "3.11.4"
  }
 },
 "nbformat": 4,
 "nbformat_minor": 2
}
