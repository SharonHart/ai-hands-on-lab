{
 "cells": [
  {
   "cell_type": "markdown",
   "metadata": {},
   "source": [
    "# 3.2. Embeddings\n",
    "\n",
    "**Which Embeddings Model to use?**\n",
    "\n",
    "There are several embedding options:\n",
    "\n",
    "- OpenAI models, such as: [`text-embedding-ada-002`](https://platform.openai.com/docs/guides/embeddings/what-are-embeddings), `text-embedding-3-small`, `text-embedding-3-large`\n",
    "- HuggingFace models, which offers a wide range of models. The [MTEB Leaderboard](https://huggingface.co/spaces/mteb/leaderboard) ranks the performance of embeddings models on a few axis, though not all models can be run locally.\n",
    "\n",
    "### a) Embed a query using an embedding model from OpenAI\n"
   ]
  },
  {
   "cell_type": "code",
   "execution_count": 1,
   "metadata": {},
   "outputs": [
    {
     "ename": "NameError",
     "evalue": "name 'aoai_endpoint' is not defined",
     "output_type": "error",
     "traceback": [
      "\u001b[1;31m---------------------------------------------------------------------------\u001b[0m",
      "\u001b[1;31mNameError\u001b[0m                                 Traceback (most recent call last)",
      "Cell \u001b[1;32mIn[1], line 5\u001b[0m\n\u001b[0;32m      1\u001b[0m \u001b[38;5;28;01mimport\u001b[39;00m \u001b[38;5;21;01mrequests\u001b[39;00m\n\u001b[0;32m      3\u001b[0m \u001b[38;5;28;01mdef\u001b[39;00m \u001b[38;5;21mget_query_embedding\u001b[39m(\n\u001b[0;32m      4\u001b[0m     query,\n\u001b[1;32m----> 5\u001b[0m     endpoint\u001b[38;5;241m=\u001b[39m\u001b[43maoai_endpoint\u001b[49m,\n\u001b[0;32m      6\u001b[0m     api_key\u001b[38;5;241m=\u001b[39maoi_api_key,\n\u001b[0;32m      7\u001b[0m     api_version\u001b[38;5;241m=\u001b[39m\u001b[38;5;124m\"\u001b[39m\u001b[38;5;124m2023-07-01-preview\u001b[39m\u001b[38;5;124m\"\u001b[39m,\n\u001b[0;32m      8\u001b[0m     embedding_model_deployment\u001b[38;5;241m=\u001b[39membedding_model_name,\n\u001b[0;32m      9\u001b[0m ):\n\u001b[0;32m     10\u001b[0m     request_url \u001b[38;5;241m=\u001b[39m \u001b[38;5;124mf\u001b[39m\u001b[38;5;124m\"\u001b[39m\u001b[38;5;132;01m{\u001b[39;00mendpoint\u001b[38;5;132;01m}\u001b[39;00m\u001b[38;5;124m/openai/deployments/\u001b[39m\u001b[38;5;132;01m{\u001b[39;00membedding_model_deployment\u001b[38;5;132;01m}\u001b[39;00m\u001b[38;5;124m/embeddings?api-version=\u001b[39m\u001b[38;5;132;01m{\u001b[39;00mapi_version\u001b[38;5;132;01m}\u001b[39;00m\u001b[38;5;124m\"\u001b[39m\n\u001b[0;32m     11\u001b[0m     headers \u001b[38;5;241m=\u001b[39m {\u001b[38;5;124m\"\u001b[39m\u001b[38;5;124mContent-Type\u001b[39m\u001b[38;5;124m\"\u001b[39m: \u001b[38;5;124m\"\u001b[39m\u001b[38;5;124mapplication/json\u001b[39m\u001b[38;5;124m\"\u001b[39m, \u001b[38;5;124m\"\u001b[39m\u001b[38;5;124mapi-key\u001b[39m\u001b[38;5;124m\"\u001b[39m: api_key}\n",
      "\u001b[1;31mNameError\u001b[0m: name 'aoai_endpoint' is not defined"
     ]
    }
   ],
   "source": [
    "import requests\n",
    "\n",
    "def get_query_embedding(\n",
    "    query,\n",
    "    endpoint=aoai_endpoint,\n",
    "    api_key=aoi_api_key,\n",
    "    api_version=\"2023-07-01-preview\",\n",
    "    embedding_model_deployment=embedding_model_name,\n",
    "):\n",
    "    request_url = f\"{endpoint}/openai/deployments/{embedding_model_deployment}/embeddings?api-version={api_version}\"\n",
    "    headers = {\"Content-Type\": \"application/json\", \"api-key\": api_key}\n",
    "    request_payload = {\"input\": query}\n",
    "    embedding_response = requests.post(\n",
    "        request_url, json=request_payload, headers=headers, timeout=None\n",
    "    )\n",
    "    if embedding_response.status_code == 200:\n",
    "        data_values = embedding_response.json()[\"data\"]\n",
    "        embeddings_vectors = [data_value[\"embedding\"] for data_value in data_values]\n",
    "        return embeddings_vectors\n",
    "    else:\n",
    "        raise Exception(f\"failed to get embedding: {embedding_response.json()}\")"
   ]
  },
  {
   "cell_type": "code",
   "execution_count": null,
   "metadata": {},
   "outputs": [],
   "source": [
    "query = \"Hello\"\n",
    "\n",
    "query_vectors = get_query_embedding(\n",
    "    query, aoai_endpoint, aoi_api_key, \"2023-07-01-preview\", embedding_model_name\n",
    ")\n",
    "\n",
    "print(f\"The embedded vector is: {query_vectors}\")"
   ]
  },
  {
   "cell_type": "markdown",
   "metadata": {},
   "source": [
    "#### Create embeddings using OpenAI\n",
    "\n",
    "Read your data, generate embeddings using OpenAI model\n"
   ]
  },
  {
   "cell_type": "code",
   "execution_count": null,
   "metadata": {},
   "outputs": [],
   "source": [
    "from sentence_transformers import SentenceTransformer\n",
    "\n",
    "model = SentenceTransformer(\"intfloat/e5-small-v2\")\n",
    "query = \"Hello\"\n",
    "\n",
    "embedded_query = model.encode(query, normalize_embeddings=True)\n",
    "print(len(embedded_query))"
   ]
  },
  {
   "cell_type": "markdown",
   "metadata": {},
   "source": [
    "### b) Embed a query using an embedding model from Hugging Face\n",
    "\n",
    "We will use [`infloat/e5-small-v2`](https://huggingface.co/intfloat/e5-small-v2) from Hugging Face, which is of size 0.13 GB.\n"
   ]
  },
  {
   "cell_type": "markdown",
   "metadata": {},
   "source": [
    "#### Create embeddings using Hugging Face model\n",
    "\n",
    "Read your data, generate embeddings using HuggingFace model\n"
   ]
  },
  {
   "cell_type": "code",
   "execution_count": null,
   "metadata": {},
   "outputs": [],
   "source": [
    "from sentence_transformers import SentenceTransformer\n",
    "\n",
    "model = SentenceTransformer(\"intfloat/e5-small-v2\")\n",
    "query = \"Hello\"\n",
    "\n",
    "embedded_query = model.encode(query, normalize_embeddings=True)\n",
    "print(len(embedded_query))"
   ]
  },
  {
   "cell_type": "markdown",
   "metadata": {},
   "source": [
    "#### Create embeddings using Hugging Face model\n",
    "\n",
    "Read your data, generate embeddings using HuggingFace model\n"
   ]
  },
  {
   "cell_type": "code",
   "execution_count": null,
   "metadata": {},
   "outputs": [],
   "source": [
    "from sentence_transformers import SentenceTransformer\n",
    "\n",
    "model = SentenceTransformer(\"intfloat/e5-small-v2\")\n",
    "\n",
    "with open(\"./data/text-sample.json\", \"r\", encoding=\"utf-8\") as file:\n",
    "    input_data = json.load(file)\n",
    "\n",
    "for item in input_data:\n",
    "    title = item[\"title\"]\n",
    "    content = item[\"content\"]\n",
    "    title_embeddings = model.encode(title, normalize_embeddings=True)\n",
    "    content_embeddings = model.encode(content, normalize_embeddings=True)\n",
    "    item[\"titleVector\"] = title_embeddings.tolist()\n",
    "    item[\"contentVector\"] = content_embeddings.tolist()\n",
    "\n",
    "with open(\"./output/docVectors-e5.json\", \"w\") as f:\n",
    "    json.dump(input_data, f)"
   ]
  }
 ],
 "metadata": {
  "kernelspec": {
   "display_name": ".venv",
   "language": "python",
   "name": "python3"
  },
  "language_info": {
   "codemirror_mode": {
    "name": "ipython",
    "version": 3
   },
   "file_extension": ".py",
   "mimetype": "text/x-python",
   "name": "python",
   "nbconvert_exporter": "python",
   "pygments_lexer": "ipython3",
   "version": "3.11.4"
  }
 },
 "nbformat": 4,
 "nbformat_minor": 2
}
